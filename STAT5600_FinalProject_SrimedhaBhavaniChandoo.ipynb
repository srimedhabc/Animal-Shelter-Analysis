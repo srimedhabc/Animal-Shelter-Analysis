{
 "cells": [
  {
   "cell_type": "markdown",
   "id": "079795f1",
   "metadata": {},
   "source": [
    "# Final Project - STAT 5600\n",
    "\n",
    "## Prediction and Analysis of Animal Shelter Intakes and Outcomes\n",
    "\n",
    "## Srimedha Bhavani Chandoo"
   ]
  },
  {
   "cell_type": "markdown",
   "id": "7675bca3",
   "metadata": {},
   "source": [
    "### Importing the required libraries"
   ]
  },
  {
   "cell_type": "code",
   "execution_count": 1,
   "id": "f94e948d",
   "metadata": {},
   "outputs": [],
   "source": [
    "import pandas as pd\n",
    "import matplotlib.pyplot as plt\n",
    "import seaborn as sns\n",
    "import statsmodels.api as sm\n",
    "from sklearn.impute import SimpleImputer\n",
    "from sklearn.preprocessing import LabelEncoder\n",
    "from sklearn.preprocessing import StandardScaler\n",
    "from sklearn.model_selection import train_test_split\n",
    "from sklearn.linear_model import LinearRegression\n",
    "from sklearn.linear_model import LogisticRegression\n",
    "from sklearn.ensemble import AdaBoostClassifier\n",
    "from xgboost import XGBClassifier\n",
    "from sklearn.ensemble import GradientBoostingClassifier\n",
    "from sklearn.neighbors import KNeighborsClassifier\n",
    "from sklearn.decomposition import PCA\n",
    "from sklearn.metrics import classification_report, confusion_matrix\n",
    "from sklearn.feature_selection import mutual_info_classif\n",
    "from sklearn.ensemble import RandomForestClassifier"
   ]
  },
  {
   "cell_type": "code",
   "execution_count": 2,
   "id": "87e37079",
   "metadata": {},
   "outputs": [],
   "source": [
    "import warnings\n",
    "\n",
    "warnings.filterwarnings(\"ignore\")"
   ]
  },
  {
   "cell_type": "code",
   "execution_count": 3,
   "id": "ee61dbb2",
   "metadata": {},
   "outputs": [],
   "source": [
    "# Loading the dataset\n",
    "data = pd.read_csv(\"aac_intakes_outcomes.csv\")"
   ]
  },
  {
   "cell_type": "code",
   "execution_count": 4,
   "id": "50fe1411",
   "metadata": {},
   "outputs": [
    {
     "data": {
      "text/html": [
       "<div>\n",
       "<style scoped>\n",
       "    .dataframe tbody tr th:only-of-type {\n",
       "        vertical-align: middle;\n",
       "    }\n",
       "\n",
       "    .dataframe tbody tr th {\n",
       "        vertical-align: top;\n",
       "    }\n",
       "\n",
       "    .dataframe thead th {\n",
       "        text-align: right;\n",
       "    }\n",
       "</style>\n",
       "<table border=\"1\" class=\"dataframe\">\n",
       "  <thead>\n",
       "    <tr style=\"text-align: right;\">\n",
       "      <th></th>\n",
       "      <th>age_upon_outcome</th>\n",
       "      <th>animal_id_outcome</th>\n",
       "      <th>date_of_birth</th>\n",
       "      <th>outcome_subtype</th>\n",
       "      <th>outcome_type</th>\n",
       "      <th>sex_upon_outcome</th>\n",
       "      <th>age_upon_outcome_(days)</th>\n",
       "      <th>age_upon_outcome_(years)</th>\n",
       "      <th>age_upon_outcome_age_group</th>\n",
       "      <th>outcome_datetime</th>\n",
       "      <th>...</th>\n",
       "      <th>age_upon_intake_age_group</th>\n",
       "      <th>intake_datetime</th>\n",
       "      <th>intake_month</th>\n",
       "      <th>intake_year</th>\n",
       "      <th>intake_monthyear</th>\n",
       "      <th>intake_weekday</th>\n",
       "      <th>intake_hour</th>\n",
       "      <th>intake_number</th>\n",
       "      <th>time_in_shelter</th>\n",
       "      <th>time_in_shelter_days</th>\n",
       "    </tr>\n",
       "  </thead>\n",
       "  <tbody>\n",
       "    <tr>\n",
       "      <th>0</th>\n",
       "      <td>10 years</td>\n",
       "      <td>A006100</td>\n",
       "      <td>2007-07-09 00:00:00</td>\n",
       "      <td>NaN</td>\n",
       "      <td>Return to Owner</td>\n",
       "      <td>Neutered Male</td>\n",
       "      <td>3650</td>\n",
       "      <td>10.0</td>\n",
       "      <td>(7.5, 10.0]</td>\n",
       "      <td>2017-12-07 14:07:00</td>\n",
       "      <td>...</td>\n",
       "      <td>(7.5, 10.0]</td>\n",
       "      <td>2017-12-07 00:00:00</td>\n",
       "      <td>12</td>\n",
       "      <td>2017</td>\n",
       "      <td>2017-12</td>\n",
       "      <td>Thursday</td>\n",
       "      <td>14</td>\n",
       "      <td>1.0</td>\n",
       "      <td>0 days 14:07:00.000000000</td>\n",
       "      <td>0.588194</td>\n",
       "    </tr>\n",
       "    <tr>\n",
       "      <th>1</th>\n",
       "      <td>7 years</td>\n",
       "      <td>A006100</td>\n",
       "      <td>2007-07-09 00:00:00</td>\n",
       "      <td>NaN</td>\n",
       "      <td>Return to Owner</td>\n",
       "      <td>Neutered Male</td>\n",
       "      <td>2555</td>\n",
       "      <td>7.0</td>\n",
       "      <td>(5.0, 7.5]</td>\n",
       "      <td>2014-12-20 16:35:00</td>\n",
       "      <td>...</td>\n",
       "      <td>(5.0, 7.5]</td>\n",
       "      <td>2014-12-19 10:21:00</td>\n",
       "      <td>12</td>\n",
       "      <td>2014</td>\n",
       "      <td>2014-12</td>\n",
       "      <td>Friday</td>\n",
       "      <td>10</td>\n",
       "      <td>2.0</td>\n",
       "      <td>1 days 06:14:00.000000000</td>\n",
       "      <td>1.259722</td>\n",
       "    </tr>\n",
       "    <tr>\n",
       "      <th>2</th>\n",
       "      <td>6 years</td>\n",
       "      <td>A006100</td>\n",
       "      <td>2007-07-09 00:00:00</td>\n",
       "      <td>NaN</td>\n",
       "      <td>Return to Owner</td>\n",
       "      <td>Neutered Male</td>\n",
       "      <td>2190</td>\n",
       "      <td>6.0</td>\n",
       "      <td>(5.0, 7.5]</td>\n",
       "      <td>2014-03-08 17:10:00</td>\n",
       "      <td>...</td>\n",
       "      <td>(5.0, 7.5]</td>\n",
       "      <td>2014-03-07 14:26:00</td>\n",
       "      <td>3</td>\n",
       "      <td>2014</td>\n",
       "      <td>2014-03</td>\n",
       "      <td>Friday</td>\n",
       "      <td>14</td>\n",
       "      <td>3.0</td>\n",
       "      <td>1 days 02:44:00.000000000</td>\n",
       "      <td>1.113889</td>\n",
       "    </tr>\n",
       "    <tr>\n",
       "      <th>3</th>\n",
       "      <td>10 years</td>\n",
       "      <td>A047759</td>\n",
       "      <td>2004-04-02 00:00:00</td>\n",
       "      <td>Partner</td>\n",
       "      <td>Transfer</td>\n",
       "      <td>Neutered Male</td>\n",
       "      <td>3650</td>\n",
       "      <td>10.0</td>\n",
       "      <td>(7.5, 10.0]</td>\n",
       "      <td>2014-04-07 15:12:00</td>\n",
       "      <td>...</td>\n",
       "      <td>(7.5, 10.0]</td>\n",
       "      <td>2014-04-02 15:55:00</td>\n",
       "      <td>4</td>\n",
       "      <td>2014</td>\n",
       "      <td>2014-04</td>\n",
       "      <td>Wednesday</td>\n",
       "      <td>15</td>\n",
       "      <td>1.0</td>\n",
       "      <td>4 days 23:17:00.000000000</td>\n",
       "      <td>4.970139</td>\n",
       "    </tr>\n",
       "    <tr>\n",
       "      <th>4</th>\n",
       "      <td>16 years</td>\n",
       "      <td>A134067</td>\n",
       "      <td>1997-10-16 00:00:00</td>\n",
       "      <td>NaN</td>\n",
       "      <td>Return to Owner</td>\n",
       "      <td>Neutered Male</td>\n",
       "      <td>5840</td>\n",
       "      <td>16.0</td>\n",
       "      <td>(15.0, 17.5]</td>\n",
       "      <td>2013-11-16 11:54:00</td>\n",
       "      <td>...</td>\n",
       "      <td>(15.0, 17.5]</td>\n",
       "      <td>2013-11-16 09:02:00</td>\n",
       "      <td>11</td>\n",
       "      <td>2013</td>\n",
       "      <td>2013-11</td>\n",
       "      <td>Saturday</td>\n",
       "      <td>9</td>\n",
       "      <td>1.0</td>\n",
       "      <td>0 days 02:52:00.000000000</td>\n",
       "      <td>0.119444</td>\n",
       "    </tr>\n",
       "  </tbody>\n",
       "</table>\n",
       "<p>5 rows × 41 columns</p>\n",
       "</div>"
      ],
      "text/plain": [
       "  age_upon_outcome animal_id_outcome        date_of_birth outcome_subtype  \\\n",
       "0         10 years           A006100  2007-07-09 00:00:00             NaN   \n",
       "1          7 years           A006100  2007-07-09 00:00:00             NaN   \n",
       "2          6 years           A006100  2007-07-09 00:00:00             NaN   \n",
       "3         10 years           A047759  2004-04-02 00:00:00         Partner   \n",
       "4         16 years           A134067  1997-10-16 00:00:00             NaN   \n",
       "\n",
       "      outcome_type sex_upon_outcome  age_upon_outcome_(days)  \\\n",
       "0  Return to Owner    Neutered Male                     3650   \n",
       "1  Return to Owner    Neutered Male                     2555   \n",
       "2  Return to Owner    Neutered Male                     2190   \n",
       "3         Transfer    Neutered Male                     3650   \n",
       "4  Return to Owner    Neutered Male                     5840   \n",
       "\n",
       "   age_upon_outcome_(years) age_upon_outcome_age_group     outcome_datetime  \\\n",
       "0                      10.0                (7.5, 10.0]  2017-12-07 14:07:00   \n",
       "1                       7.0                 (5.0, 7.5]  2014-12-20 16:35:00   \n",
       "2                       6.0                 (5.0, 7.5]  2014-03-08 17:10:00   \n",
       "3                      10.0                (7.5, 10.0]  2014-04-07 15:12:00   \n",
       "4                      16.0               (15.0, 17.5]  2013-11-16 11:54:00   \n",
       "\n",
       "   ...  age_upon_intake_age_group      intake_datetime intake_month  \\\n",
       "0  ...                (7.5, 10.0]  2017-12-07 00:00:00           12   \n",
       "1  ...                 (5.0, 7.5]  2014-12-19 10:21:00           12   \n",
       "2  ...                 (5.0, 7.5]  2014-03-07 14:26:00            3   \n",
       "3  ...                (7.5, 10.0]  2014-04-02 15:55:00            4   \n",
       "4  ...               (15.0, 17.5]  2013-11-16 09:02:00           11   \n",
       "\n",
       "  intake_year  intake_monthyear  intake_weekday  intake_hour  intake_number  \\\n",
       "0        2017           2017-12        Thursday           14            1.0   \n",
       "1        2014           2014-12          Friday           10            2.0   \n",
       "2        2014           2014-03          Friday           14            3.0   \n",
       "3        2014           2014-04       Wednesday           15            1.0   \n",
       "4        2013           2013-11        Saturday            9            1.0   \n",
       "\n",
       "             time_in_shelter time_in_shelter_days  \n",
       "0  0 days 14:07:00.000000000             0.588194  \n",
       "1  1 days 06:14:00.000000000             1.259722  \n",
       "2  1 days 02:44:00.000000000             1.113889  \n",
       "3  4 days 23:17:00.000000000             4.970139  \n",
       "4  0 days 02:52:00.000000000             0.119444  \n",
       "\n",
       "[5 rows x 41 columns]"
      ]
     },
     "execution_count": 4,
     "metadata": {},
     "output_type": "execute_result"
    }
   ],
   "source": [
    "data.head()"
   ]
  },
  {
   "cell_type": "code",
   "execution_count": 5,
   "id": "355d65de",
   "metadata": {
    "scrolled": true
   },
   "outputs": [
    {
     "name": "stdout",
     "output_type": "stream",
     "text": [
      "<class 'pandas.core.frame.DataFrame'>\n",
      "RangeIndex: 79672 entries, 0 to 79671\n",
      "Data columns (total 41 columns):\n",
      " #   Column                      Non-Null Count  Dtype  \n",
      "---  ------                      --------------  -----  \n",
      " 0   age_upon_outcome            79672 non-null  object \n",
      " 1   animal_id_outcome           79672 non-null  object \n",
      " 2   date_of_birth               79672 non-null  object \n",
      " 3   outcome_subtype             36348 non-null  object \n",
      " 4   outcome_type                79662 non-null  object \n",
      " 5   sex_upon_outcome            79671 non-null  object \n",
      " 6   age_upon_outcome_(days)     79672 non-null  int64  \n",
      " 7   age_upon_outcome_(years)    79672 non-null  float64\n",
      " 8   age_upon_outcome_age_group  79672 non-null  object \n",
      " 9   outcome_datetime            79672 non-null  object \n",
      " 10  outcome_month               79672 non-null  int64  \n",
      " 11  outcome_year                79672 non-null  int64  \n",
      " 12  outcome_monthyear           79672 non-null  object \n",
      " 13  outcome_weekday             79672 non-null  object \n",
      " 14  outcome_hour                79672 non-null  int64  \n",
      " 15  outcome_number              79672 non-null  float64\n",
      " 16  dob_year                    79672 non-null  int64  \n",
      " 17  dob_month                   79672 non-null  int64  \n",
      " 18  dob_monthyear               79672 non-null  object \n",
      " 19  age_upon_intake             79672 non-null  object \n",
      " 20  animal_id_intake            79672 non-null  object \n",
      " 21  animal_type                 79672 non-null  object \n",
      " 22  breed                       79672 non-null  object \n",
      " 23  color                       79672 non-null  object \n",
      " 24  found_location              79672 non-null  object \n",
      " 25  intake_condition            79672 non-null  object \n",
      " 26  intake_type                 79672 non-null  object \n",
      " 27  sex_upon_intake             79671 non-null  object \n",
      " 28  count                       79672 non-null  int64  \n",
      " 29  age_upon_intake_(days)      79672 non-null  int64  \n",
      " 30  age_upon_intake_(years)     79672 non-null  float64\n",
      " 31  age_upon_intake_age_group   79672 non-null  object \n",
      " 32  intake_datetime             79672 non-null  object \n",
      " 33  intake_month                79672 non-null  int64  \n",
      " 34  intake_year                 79672 non-null  int64  \n",
      " 35  intake_monthyear            79672 non-null  object \n",
      " 36  intake_weekday              79672 non-null  object \n",
      " 37  intake_hour                 79672 non-null  int64  \n",
      " 38  intake_number               79672 non-null  float64\n",
      " 39  time_in_shelter             79672 non-null  object \n",
      " 40  time_in_shelter_days        79672 non-null  float64\n",
      "dtypes: float64(5), int64(11), object(25)\n",
      "memory usage: 24.9+ MB\n"
     ]
    }
   ],
   "source": [
    "data.info()"
   ]
  },
  {
   "cell_type": "code",
   "execution_count": 6,
   "id": "d651221a",
   "metadata": {
    "scrolled": true
   },
   "outputs": [
    {
     "data": {
      "text/plain": [
       "Index(['age_upon_outcome', 'animal_id_outcome', 'date_of_birth',\n",
       "       'outcome_subtype', 'outcome_type', 'sex_upon_outcome',\n",
       "       'age_upon_outcome_(days)', 'age_upon_outcome_(years)',\n",
       "       'age_upon_outcome_age_group', 'outcome_datetime', 'outcome_month',\n",
       "       'outcome_year', 'outcome_monthyear', 'outcome_weekday', 'outcome_hour',\n",
       "       'outcome_number', 'dob_year', 'dob_month', 'dob_monthyear',\n",
       "       'age_upon_intake', 'animal_id_intake', 'animal_type', 'breed', 'color',\n",
       "       'found_location', 'intake_condition', 'intake_type', 'sex_upon_intake',\n",
       "       'count', 'age_upon_intake_(days)', 'age_upon_intake_(years)',\n",
       "       'age_upon_intake_age_group', 'intake_datetime', 'intake_month',\n",
       "       'intake_year', 'intake_monthyear', 'intake_weekday', 'intake_hour',\n",
       "       'intake_number', 'time_in_shelter', 'time_in_shelter_days'],\n",
       "      dtype='object')"
      ]
     },
     "execution_count": 6,
     "metadata": {},
     "output_type": "execute_result"
    }
   ],
   "source": [
    "data.columns"
   ]
  },
  {
   "cell_type": "code",
   "execution_count": 7,
   "id": "97d4a9e3",
   "metadata": {},
   "outputs": [
    {
     "data": {
      "text/plain": [
       "(79672, 41)"
      ]
     },
     "execution_count": 7,
     "metadata": {},
     "output_type": "execute_result"
    }
   ],
   "source": [
    "data.shape"
   ]
  },
  {
   "cell_type": "code",
   "execution_count": 8,
   "id": "867f38c0",
   "metadata": {},
   "outputs": [
    {
     "data": {
      "text/plain": [
       "age_upon_outcome                  0\n",
       "animal_id_outcome                 0\n",
       "date_of_birth                     0\n",
       "outcome_subtype               43324\n",
       "outcome_type                     10\n",
       "sex_upon_outcome                  1\n",
       "age_upon_outcome_(days)           0\n",
       "age_upon_outcome_(years)          0\n",
       "age_upon_outcome_age_group        0\n",
       "outcome_datetime                  0\n",
       "outcome_month                     0\n",
       "outcome_year                      0\n",
       "outcome_monthyear                 0\n",
       "outcome_weekday                   0\n",
       "outcome_hour                      0\n",
       "outcome_number                    0\n",
       "dob_year                          0\n",
       "dob_month                         0\n",
       "dob_monthyear                     0\n",
       "age_upon_intake                   0\n",
       "animal_id_intake                  0\n",
       "animal_type                       0\n",
       "breed                             0\n",
       "color                             0\n",
       "found_location                    0\n",
       "intake_condition                  0\n",
       "intake_type                       0\n",
       "sex_upon_intake                   1\n",
       "count                             0\n",
       "age_upon_intake_(days)            0\n",
       "age_upon_intake_(years)           0\n",
       "age_upon_intake_age_group         0\n",
       "intake_datetime                   0\n",
       "intake_month                      0\n",
       "intake_year                       0\n",
       "intake_monthyear                  0\n",
       "intake_weekday                    0\n",
       "intake_hour                       0\n",
       "intake_number                     0\n",
       "time_in_shelter                   0\n",
       "time_in_shelter_days              0\n",
       "dtype: int64"
      ]
     },
     "execution_count": 8,
     "metadata": {},
     "output_type": "execute_result"
    }
   ],
   "source": [
    "data.isnull().sum()"
   ]
  },
  {
   "cell_type": "code",
   "execution_count": 9,
   "id": "bc51149a",
   "metadata": {
    "scrolled": true
   },
   "outputs": [
    {
     "data": {
      "text/plain": [
       "age_upon_outcome               object\n",
       "animal_id_outcome              object\n",
       "date_of_birth                  object\n",
       "outcome_subtype                object\n",
       "outcome_type                   object\n",
       "sex_upon_outcome               object\n",
       "age_upon_outcome_(days)         int64\n",
       "age_upon_outcome_(years)      float64\n",
       "age_upon_outcome_age_group     object\n",
       "outcome_datetime               object\n",
       "outcome_month                   int64\n",
       "outcome_year                    int64\n",
       "outcome_monthyear              object\n",
       "outcome_weekday                object\n",
       "outcome_hour                    int64\n",
       "outcome_number                float64\n",
       "dob_year                        int64\n",
       "dob_month                       int64\n",
       "dob_monthyear                  object\n",
       "age_upon_intake                object\n",
       "animal_id_intake               object\n",
       "animal_type                    object\n",
       "breed                          object\n",
       "color                          object\n",
       "found_location                 object\n",
       "intake_condition               object\n",
       "intake_type                    object\n",
       "sex_upon_intake                object\n",
       "count                           int64\n",
       "age_upon_intake_(days)          int64\n",
       "age_upon_intake_(years)       float64\n",
       "age_upon_intake_age_group      object\n",
       "intake_datetime                object\n",
       "intake_month                    int64\n",
       "intake_year                     int64\n",
       "intake_monthyear               object\n",
       "intake_weekday                 object\n",
       "intake_hour                     int64\n",
       "intake_number                 float64\n",
       "time_in_shelter                object\n",
       "time_in_shelter_days          float64\n",
       "dtype: object"
      ]
     },
     "execution_count": 9,
     "metadata": {},
     "output_type": "execute_result"
    }
   ],
   "source": [
    "data.dtypes"
   ]
  },
  {
   "cell_type": "markdown",
   "id": "ffc079e4",
   "metadata": {},
   "source": [
    "### Exploratory Data Analysis"
   ]
  },
  {
   "cell_type": "code",
   "execution_count": 10,
   "id": "caf042f8",
   "metadata": {},
   "outputs": [
    {
     "data": {
      "image/png": "[encoded data removed]",
      "text/plain": [
       "<Figure size 720x432 with 1 Axes>"
      ]
     },
     "metadata": {
      "needs_background": "light"
     },
     "output_type": "display_data"
    }
   ],
   "source": [
    "# Outcome type distribution\n",
    "plt.figure(figsize=(10, 6))\n",
    "sns.countplot(data=data, x='outcome_type', order=data['outcome_type'].value_counts().index)\n",
    "plt.title(\"Distribution of Outcome Types\")\n",
    "plt.xlabel(\"Outcome Type\")\n",
    "plt.ylabel(\"Count\")\n",
    "plt.xticks(rotation=45)\n",
    "plt.show()"
   ]
  },
  {
   "cell_type": "code",
   "execution_count": 11,
   "id": "6aaa6a34",
   "metadata": {},
   "outputs": [
    {
     "data": {
      "image/png": "[encoded data removed]",
      "text/plain": [
       "<Figure size 720x432 with 1 Axes>"
      ]
     },
     "metadata": {
      "needs_background": "light"
     },
     "output_type": "display_data"
    }
   ],
   "source": [
    "# Distribution of age upon outcome\n",
    "plt.figure(figsize=(10, 6))\n",
    "sns.histplot(data=data, x='age_upon_outcome_(years)', bins=30, kde=True, color='skyblue')\n",
    "plt.title(\"Distribution of Age Upon Outcome (Years)\")\n",
    "plt.xlabel(\"Age Upon Outcome (Years)\")\n",
    "plt.ylabel(\"Frequency\")\n",
    "plt.show()"
   ]
  },
  {
   "cell_type": "code",
   "execution_count": 12,
   "id": "6fbe018f",
   "metadata": {},
   "outputs": [
    {
     "data": {
      "image/png": "[encoded data removed]",
      "text/plain": [
       "<Figure size 720x432 with 1 Axes>"
      ]
     },
     "metadata": {
      "needs_background": "light"
     },
     "output_type": "display_data"
    }
   ],
   "source": [
    "# Number of outcomes per year\n",
    "outcomes_per_year = data['outcome_year'].value_counts().sort_index()\n",
    "plt.figure(figsize=(10, 6))\n",
    "sns.lineplot(x=outcomes_per_year.index, y=outcomes_per_year.values, marker='o')\n",
    "plt.title(\"Number of Outcomes Per Year\")\n",
    "plt.xlabel(\"Year\")\n",
    "plt.ylabel(\"Number of Outcomes\")\n",
    "plt.show()"
   ]
  },
  {
   "cell_type": "code",
   "execution_count": 13,
   "id": "2749cba1",
   "metadata": {},
   "outputs": [
    {
     "data": {
      "image/png": "[encoded data removed]",
      "text/plain": [
       "<Figure size 720x432 with 1 Axes>"
      ]
     },
     "metadata": {
      "needs_background": "light"
     },
     "output_type": "display_data"
    }
   ],
   "source": [
    "# Number of outcomes per month\n",
    "outcomes_per_month = data['outcome_month'].value_counts().sort_index()\n",
    "plt.figure(figsize=(10, 6))\n",
    "sns.barplot(x=outcomes_per_month.index, y=outcomes_per_month.values, palette='viridis')\n",
    "plt.title(\"Number of Outcomes Per Month\")\n",
    "plt.xlabel(\"Month\")\n",
    "plt.ylabel(\"Number of Outcomes\")\n",
    "plt.show()"
   ]
  },
  {
   "cell_type": "code",
   "execution_count": 14,
   "id": "ea979b6b",
   "metadata": {},
   "outputs": [
    {
     "data": {
      "image/png": "[encoded data removed]",
      "text/plain": [
       "<Figure size 720x432 with 1 Axes>"
      ]
     },
     "metadata": {
      "needs_background": "light"
     },
     "output_type": "display_data"
    }
   ],
   "source": [
    "# Comparing outcome type with animal type\n",
    "plt.figure(figsize=(10, 6))\n",
    "sns.countplot(data=data, x='outcome_type', hue='animal_type', order=data['outcome_type'].value_counts().index)\n",
    "plt.title(\"Outcome Type by Animal Type\")\n",
    "plt.xlabel(\"Outcome Type\")\n",
    "plt.ylabel(\"Count\")\n",
    "plt.xticks(rotation=45)\n",
    "plt.legend(title='Animal Type')\n",
    "plt.show()"
   ]
  },
  {
   "cell_type": "code",
   "execution_count": 15,
   "id": "ffda1004",
   "metadata": {},
   "outputs": [
    {
     "data": {
      "image/png": "[encoded data removed]",
      "text/plain": [
       "<Figure size 720x432 with 2 Axes>"
      ]
     },
     "metadata": {
      "needs_background": "light"
     },
     "output_type": "display_data"
    }
   ],
   "source": [
    "import seaborn as sns\n",
    "import pandas as pd\n",
    "\n",
    "# Prepare data for the heatmap\n",
    "heatmap_data = data.groupby(['outcome_type', 'animal_type']).size().unstack(fill_value=0)\n",
    "\n",
    "# Plot the heatmap\n",
    "plt.figure(figsize=(10, 6))\n",
    "sns.heatmap(heatmap_data, annot=True, fmt=\"d\", cmap=\"YlGnBu\")\n",
    "plt.title(\"Heatmap of Outcome Type by Animal Type\")\n",
    "plt.xlabel(\"Animal Type\")\n",
    "plt.ylabel(\"Outcome Type\")\n",
    "plt.show()"
   ]
  },
  {
   "cell_type": "code",
   "execution_count": 16,
   "id": "90bbc2a1",
   "metadata": {},
   "outputs": [
    {
     "data": {
      "image/png": "[encoded data removed]",
      "text/plain": [
       "<Figure size 720x432 with 1 Axes>"
      ]
     },
     "metadata": {
      "needs_background": "light"
     },
     "output_type": "display_data"
    }
   ],
   "source": [
    "# Time in shelter distribution by outcome type\n",
    "plt.figure(figsize=(10, 6))\n",
    "sns.barplot(data=data, x='outcome_type', y='time_in_shelter_days', order=data['outcome_type'].value_counts().index, palette='Set2')\n",
    "plt.title(\"Time in Shelter by Outcome Type\")\n",
    "plt.xlabel(\"Outcome Type\")\n",
    "plt.ylabel(\"Time in Shelter (Days)\")\n",
    "plt.xticks(rotation=45)\n",
    "plt.show()"
   ]
  },
  {
   "cell_type": "code",
   "execution_count": 17,
   "id": "c53edb9a",
   "metadata": {},
   "outputs": [
    {
     "data": {
      "image/png": "[encoded data removed]",
      "text/plain": [
       "<Figure size 720x432 with 1 Axes>"
      ]
     },
     "metadata": {
      "needs_background": "light"
     },
     "output_type": "display_data"
    }
   ],
   "source": [
    "# Intake type vs. outcome type\n",
    "plt.figure(figsize=(10, 6))\n",
    "sns.countplot(data=data, x='intake_type', hue='outcome_type', order=data['intake_type'].value_counts().index)\n",
    "plt.title(\"Intake Type by Outcome Type\")\n",
    "plt.xlabel(\"Intake Type\")\n",
    "plt.ylabel(\"Count\")\n",
    "plt.xticks(rotation=45)\n",
    "plt.legend(title='Outcome Type')\n",
    "plt.show()"
   ]
  },
  {
   "cell_type": "code",
   "execution_count": 18,
   "id": "82bd61dc",
   "metadata": {
    "scrolled": true
   },
   "outputs": [
    {
     "data": {
      "image/png": "[encoded data removed]",
      "text/plain": [
       "<Figure size 864x576 with 2 Axes>"
      ]
     },
     "metadata": {
      "needs_background": "light"
     },
     "output_type": "display_data"
    }
   ],
   "source": [
    "# Correlation heatmap for numerical features\n",
    "plt.figure(figsize=(12, 8))\n",
    "numerical_columns = ['age_upon_outcome_(days)', 'age_upon_outcome_(years)', 'time_in_shelter_days', 'intake_hour', 'outcome_hour']\n",
    "correlation_matrix = data[numerical_columns].corr()\n",
    "\n",
    "sns.heatmap(correlation_matrix, annot=True, cmap='coolwarm', fmt='.2f')\n",
    "plt.title(\"Correlation Heatmap\")\n",
    "plt.show()"
   ]
  },
  {
   "cell_type": "markdown",
   "id": "3a3d8990",
   "metadata": {},
   "source": [
    "### Feature Selection"
   ]
  },
  {
   "cell_type": "code",
   "execution_count": 19,
   "id": "9d5e7348",
   "metadata": {},
   "outputs": [
    {
     "name": "stdout",
     "output_type": "stream",
     "text": [
      "Top 15 Features (Mutual Information):\n",
      "                     Feature  Importance\n",
      "3            outcome_subtype    0.913698\n",
      "38           time_in_shelter    0.341482\n",
      "39      time_in_shelter_days    0.341182\n",
      "8           outcome_datetime    0.336637\n",
      "4           sex_upon_outcome    0.259072\n",
      "21                     breed    0.217375\n",
      "1          animal_id_outcome    0.211411\n",
      "19          animal_id_intake    0.211072\n",
      "31           intake_datetime    0.205156\n",
      "23            found_location    0.184399\n",
      "6   age_upon_outcome_(years)    0.178248\n",
      "25               intake_type    0.177528\n",
      "0           age_upon_outcome    0.176802\n",
      "5    age_upon_outcome_(days)    0.176677\n",
      "20               animal_type    0.166771\n",
      "\n",
      "Top 15 Features (Random Forest):\n",
      "                     Feature  Importance\n",
      "3            outcome_subtype    0.340748\n",
      "39      time_in_shelter_days    0.105984\n",
      "38           time_in_shelter    0.071130\n",
      "25               intake_type    0.069888\n",
      "4           sex_upon_outcome    0.062044\n",
      "20               animal_type    0.029815\n",
      "13              outcome_hour    0.027282\n",
      "5    age_upon_outcome_(days)    0.024460\n",
      "6   age_upon_outcome_(years)    0.023708\n",
      "26           sex_upon_intake    0.022972\n",
      "28    age_upon_intake_(days)    0.020576\n",
      "29   age_upon_intake_(years)    0.016370\n",
      "23            found_location    0.014094\n",
      "21                     breed    0.013620\n",
      "2              date_of_birth    0.013472\n",
      "\n",
      "Final Top 15 Features (Combined):\n",
      "['outcome_subtype', 'time_in_shelter_days', 'time_in_shelter', 'outcome_datetime', 'sex_upon_outcome', 'intake_type', 'breed', 'animal_id_intake', 'animal_id_outcome', 'intake_datetime', 'age_upon_outcome_(years)', 'age_upon_outcome_(days)', 'found_location', 'animal_type', 'age_upon_outcome']\n"
     ]
    }
   ],
   "source": [
    "df = data.copy()\n",
    "\n",
    "# Defining the target variable and features\n",
    "target = 'outcome_type'\n",
    "features = [col for col in df.columns if col != target]\n",
    "\n",
    "# Handling categorical columns using Label Encoding\n",
    "label_encoders = {}\n",
    "for col in features:\n",
    "    if df[col].dtype == 'object':\n",
    "        le = LabelEncoder()\n",
    "        df[col] = le.fit_transform(df[col].astype(str))\n",
    "        label_encoders[col] = le\n",
    "\n",
    "# Ensuring the target is also label encoded\n",
    "target_le = LabelEncoder()\n",
    "df[target] = target_le.fit_transform(df[target])\n",
    "\n",
    "# Feature Selection: Mutual Information\n",
    "mutual_info = mutual_info_classif(df[features], df[target], random_state=42)\n",
    "mutual_info_df = pd.DataFrame({\n",
    "    'Feature': features,\n",
    "    'Importance': mutual_info\n",
    "}).sort_values(by='Importance', ascending=False)\n",
    "\n",
    "# Displaying the top 15 features based on Mutual Information\n",
    "print(\"Top 15 Features (Mutual Information):\")\n",
    "print(mutual_info_df.head(15))\n",
    "\n",
    "# Feature Selection: Random Forest\n",
    "rf = RandomForestClassifier(random_state=42)\n",
    "rf.fit(df[features], df[target])\n",
    "\n",
    "rf_feature_importances = pd.DataFrame({\n",
    "    'Feature': features,\n",
    "    'Importance': rf.feature_importances_\n",
    "}).sort_values(by='Importance', ascending=False)\n",
    "\n",
    "# Displaying the top 15 features based on Random Forest\n",
    "print(\"\\nTop 15 Features (Random Forest):\")\n",
    "print(rf_feature_importances.head(15))\n",
    "\n",
    "# Combining the results for final selection\n",
    "combined = mutual_info_df.merge(rf_feature_importances, on='Feature', suffixes=('_mutual_info', '_rf'))\n",
    "combined['Average_Importance'] = combined[['Importance_mutual_info', 'Importance_rf']].mean(axis=1)\n",
    "combined = combined.sort_values(by='Average_Importance', ascending=False)\n",
    "\n",
    "top_15_features = combined.head(15)['Feature'].tolist()\n",
    "\n",
    "print(\"\\nFinal Top 15 Features (Combined):\")\n",
    "print(top_15_features)"
   ]
  },
  {
   "cell_type": "code",
   "execution_count": 20,
   "id": "48557ada",
   "metadata": {},
   "outputs": [
    {
     "data": {
      "text/html": [
       "<div>\n",
       "<style scoped>\n",
       "    .dataframe tbody tr th:only-of-type {\n",
       "        vertical-align: middle;\n",
       "    }\n",
       "\n",
       "    .dataframe tbody tr th {\n",
       "        vertical-align: top;\n",
       "    }\n",
       "\n",
       "    .dataframe thead th {\n",
       "        text-align: right;\n",
       "    }\n",
       "</style>\n",
       "<table border=\"1\" class=\"dataframe\">\n",
       "  <thead>\n",
       "    <tr style=\"text-align: right;\">\n",
       "      <th></th>\n",
       "      <th>outcome_subtype</th>\n",
       "      <th>time_in_shelter_days</th>\n",
       "      <th>time_in_shelter</th>\n",
       "      <th>outcome_datetime</th>\n",
       "      <th>sex_upon_outcome</th>\n",
       "      <th>intake_type</th>\n",
       "      <th>breed</th>\n",
       "      <th>animal_id_intake</th>\n",
       "      <th>animal_id_outcome</th>\n",
       "      <th>intake_datetime</th>\n",
       "      <th>age_upon_outcome_(years)</th>\n",
       "      <th>age_upon_outcome_(days)</th>\n",
       "      <th>found_location</th>\n",
       "      <th>animal_type</th>\n",
       "      <th>age_upon_outcome</th>\n",
       "      <th>outcome_type</th>\n",
       "    </tr>\n",
       "  </thead>\n",
       "  <tbody>\n",
       "    <tr>\n",
       "      <th>0</th>\n",
       "      <td>NaN</td>\n",
       "      <td>0.588194</td>\n",
       "      <td>0 days 14:07:00.000000000</td>\n",
       "      <td>2017-12-07 14:07:00</td>\n",
       "      <td>Neutered Male</td>\n",
       "      <td>Stray</td>\n",
       "      <td>Spinone Italiano Mix</td>\n",
       "      <td>A006100</td>\n",
       "      <td>A006100</td>\n",
       "      <td>2017-12-07 00:00:00</td>\n",
       "      <td>10.0</td>\n",
       "      <td>3650</td>\n",
       "      <td>Colony Creek And Hunters Trace in Austin (TX)</td>\n",
       "      <td>Dog</td>\n",
       "      <td>10 years</td>\n",
       "      <td>Return to Owner</td>\n",
       "    </tr>\n",
       "    <tr>\n",
       "      <th>1</th>\n",
       "      <td>NaN</td>\n",
       "      <td>1.259722</td>\n",
       "      <td>1 days 06:14:00.000000000</td>\n",
       "      <td>2014-12-20 16:35:00</td>\n",
       "      <td>Neutered Male</td>\n",
       "      <td>Public Assist</td>\n",
       "      <td>Spinone Italiano Mix</td>\n",
       "      <td>A006100</td>\n",
       "      <td>A006100</td>\n",
       "      <td>2014-12-19 10:21:00</td>\n",
       "      <td>7.0</td>\n",
       "      <td>2555</td>\n",
       "      <td>8700 Research Blvd in Austin (TX)</td>\n",
       "      <td>Dog</td>\n",
       "      <td>7 years</td>\n",
       "      <td>Return to Owner</td>\n",
       "    </tr>\n",
       "    <tr>\n",
       "      <th>2</th>\n",
       "      <td>NaN</td>\n",
       "      <td>1.113889</td>\n",
       "      <td>1 days 02:44:00.000000000</td>\n",
       "      <td>2014-03-08 17:10:00</td>\n",
       "      <td>Neutered Male</td>\n",
       "      <td>Public Assist</td>\n",
       "      <td>Spinone Italiano Mix</td>\n",
       "      <td>A006100</td>\n",
       "      <td>A006100</td>\n",
       "      <td>2014-03-07 14:26:00</td>\n",
       "      <td>6.0</td>\n",
       "      <td>2190</td>\n",
       "      <td>8700 Research in Austin (TX)</td>\n",
       "      <td>Dog</td>\n",
       "      <td>6 years</td>\n",
       "      <td>Return to Owner</td>\n",
       "    </tr>\n",
       "    <tr>\n",
       "      <th>3</th>\n",
       "      <td>Partner</td>\n",
       "      <td>4.970139</td>\n",
       "      <td>4 days 23:17:00.000000000</td>\n",
       "      <td>2014-04-07 15:12:00</td>\n",
       "      <td>Neutered Male</td>\n",
       "      <td>Owner Surrender</td>\n",
       "      <td>Dachshund</td>\n",
       "      <td>A047759</td>\n",
       "      <td>A047759</td>\n",
       "      <td>2014-04-02 15:55:00</td>\n",
       "      <td>10.0</td>\n",
       "      <td>3650</td>\n",
       "      <td>Austin (TX)</td>\n",
       "      <td>Dog</td>\n",
       "      <td>10 years</td>\n",
       "      <td>Transfer</td>\n",
       "    </tr>\n",
       "    <tr>\n",
       "      <th>4</th>\n",
       "      <td>NaN</td>\n",
       "      <td>0.119444</td>\n",
       "      <td>0 days 02:52:00.000000000</td>\n",
       "      <td>2013-11-16 11:54:00</td>\n",
       "      <td>Neutered Male</td>\n",
       "      <td>Public Assist</td>\n",
       "      <td>Shetland Sheepdog</td>\n",
       "      <td>A134067</td>\n",
       "      <td>A134067</td>\n",
       "      <td>2013-11-16 09:02:00</td>\n",
       "      <td>16.0</td>\n",
       "      <td>5840</td>\n",
       "      <td>12034 Research Blvd in Austin (TX)</td>\n",
       "      <td>Dog</td>\n",
       "      <td>16 years</td>\n",
       "      <td>Return to Owner</td>\n",
       "    </tr>\n",
       "  </tbody>\n",
       "</table>\n",
       "</div>"
      ],
      "text/plain": [
       "  outcome_subtype  time_in_shelter_days            time_in_shelter  \\\n",
       "0             NaN              0.588194  0 days 14:07:00.000000000   \n",
       "1             NaN              1.259722  1 days 06:14:00.000000000   \n",
       "2             NaN              1.113889  1 days 02:44:00.000000000   \n",
       "3         Partner              4.970139  4 days 23:17:00.000000000   \n",
       "4             NaN              0.119444  0 days 02:52:00.000000000   \n",
       "\n",
       "      outcome_datetime sex_upon_outcome      intake_type  \\\n",
       "0  2017-12-07 14:07:00    Neutered Male            Stray   \n",
       "1  2014-12-20 16:35:00    Neutered Male    Public Assist   \n",
       "2  2014-03-08 17:10:00    Neutered Male    Public Assist   \n",
       "3  2014-04-07 15:12:00    Neutered Male  Owner Surrender   \n",
       "4  2013-11-16 11:54:00    Neutered Male    Public Assist   \n",
       "\n",
       "                  breed animal_id_intake animal_id_outcome  \\\n",
       "0  Spinone Italiano Mix          A006100           A006100   \n",
       "1  Spinone Italiano Mix          A006100           A006100   \n",
       "2  Spinone Italiano Mix          A006100           A006100   \n",
       "3             Dachshund          A047759           A047759   \n",
       "4     Shetland Sheepdog          A134067           A134067   \n",
       "\n",
       "       intake_datetime  age_upon_outcome_(years)  age_upon_outcome_(days)  \\\n",
       "0  2017-12-07 00:00:00                      10.0                     3650   \n",
       "1  2014-12-19 10:21:00                       7.0                     2555   \n",
       "2  2014-03-07 14:26:00                       6.0                     2190   \n",
       "3  2014-04-02 15:55:00                      10.0                     3650   \n",
       "4  2013-11-16 09:02:00                      16.0                     5840   \n",
       "\n",
       "                                  found_location animal_type age_upon_outcome  \\\n",
       "0  Colony Creek And Hunters Trace in Austin (TX)         Dog         10 years   \n",
       "1              8700 Research Blvd in Austin (TX)         Dog          7 years   \n",
       "2                   8700 Research in Austin (TX)         Dog          6 years   \n",
       "3                                    Austin (TX)         Dog         10 years   \n",
       "4             12034 Research Blvd in Austin (TX)         Dog         16 years   \n",
       "\n",
       "      outcome_type  \n",
       "0  Return to Owner  \n",
       "1  Return to Owner  \n",
       "2  Return to Owner  \n",
       "3         Transfer  \n",
       "4  Return to Owner  "
      ]
     },
     "execution_count": 20,
     "metadata": {},
     "output_type": "execute_result"
    }
   ],
   "source": [
    "top_15_features = [\n",
    "    'outcome_subtype', 'time_in_shelter_days', 'time_in_shelter',\n",
    "    'outcome_datetime', 'sex_upon_outcome', 'intake_type', 'breed',\n",
    "    'animal_id_intake', 'animal_id_outcome', 'intake_datetime',\n",
    "    'age_upon_outcome_(years)', 'age_upon_outcome_(days)', 'found_location',\n",
    "    'animal_type', 'age_upon_outcome']\n",
    "\n",
    "data1 = data[top_15_features + ['outcome_type']]\n",
    "\n",
    "data1.head()"
   ]
  },
  {
   "cell_type": "markdown",
   "id": "b3ea0633",
   "metadata": {},
   "source": [
    "## Data Modeling\n",
    "\n",
    "### Data Preprocessing"
   ]
  },
  {
   "cell_type": "code",
   "execution_count": 21,
   "id": "ef92b925",
   "metadata": {
    "scrolled": true
   },
   "outputs": [
    {
     "name": "stdout",
     "output_type": "stream",
     "text": [
      "\n",
      "Missing Values After Imputation:\n",
      "outcome_subtype             0\n",
      "time_in_shelter_days        0\n",
      "time_in_shelter             0\n",
      "outcome_datetime            0\n",
      "sex_upon_outcome            0\n",
      "intake_type                 0\n",
      "breed                       0\n",
      "animal_id_intake            0\n",
      "animal_id_outcome           0\n",
      "intake_datetime             0\n",
      "age_upon_outcome_(years)    0\n",
      "age_upon_outcome_(days)     0\n",
      "found_location              0\n",
      "animal_type                 0\n",
      "age_upon_outcome            0\n",
      "outcome_type                0\n",
      "dtype: int64\n"
     ]
    }
   ],
   "source": [
    "# Updated lists of numerical and categorical columns based on selected features\n",
    "numerical_columns = ['age_upon_outcome_(days)', 'age_upon_outcome_(years)', 'time_in_shelter_days']\n",
    "categorical_columns = [\n",
    "    'outcome_subtype', 'time_in_shelter', 'outcome_datetime', 'sex_upon_outcome',\n",
    "    'intake_type', 'breed', 'animal_id_intake', 'animal_id_outcome', \n",
    "    'intake_datetime', 'found_location', 'animal_type', 'age_upon_outcome', 'outcome_type'\n",
    "]\n",
    "\n",
    "# Creating an imputer for numerical columns\n",
    "num_imputer = SimpleImputer(strategy='mean')\n",
    "\n",
    "# Creating an imputer for categorical columns\n",
    "cat_imputer = SimpleImputer(strategy='most_frequent')\n",
    "\n",
    "# Applying the imputers\n",
    "data1[numerical_columns] = num_imputer.fit_transform(data1[numerical_columns])\n",
    "data1[categorical_columns] = cat_imputer.fit_transform(data1[categorical_columns])\n",
    "\n",
    "# Checking if any missing values remain\n",
    "print(\"\\nMissing Values After Imputation:\")\n",
    "print(data1.isnull().sum())"
   ]
  },
  {
   "cell_type": "markdown",
   "id": "fa98c4df",
   "metadata": {},
   "source": [
    "### Encoding the categorical columns with LabelEncoder"
   ]
  },
  {
   "cell_type": "code",
   "execution_count": 22,
   "id": "d1514a64",
   "metadata": {
    "scrolled": true
   },
   "outputs": [
    {
     "data": {
      "text/html": [
       "<div>\n",
       "<style scoped>\n",
       "    .dataframe tbody tr th:only-of-type {\n",
       "        vertical-align: middle;\n",
       "    }\n",
       "\n",
       "    .dataframe tbody tr th {\n",
       "        vertical-align: top;\n",
       "    }\n",
       "\n",
       "    .dataframe thead th {\n",
       "        text-align: right;\n",
       "    }\n",
       "</style>\n",
       "<table border=\"1\" class=\"dataframe\">\n",
       "  <thead>\n",
       "    <tr style=\"text-align: right;\">\n",
       "      <th></th>\n",
       "      <th>outcome_subtype</th>\n",
       "      <th>time_in_shelter_days</th>\n",
       "      <th>time_in_shelter</th>\n",
       "      <th>outcome_datetime</th>\n",
       "      <th>sex_upon_outcome</th>\n",
       "      <th>intake_type</th>\n",
       "      <th>breed</th>\n",
       "      <th>animal_id_intake</th>\n",
       "      <th>animal_id_outcome</th>\n",
       "      <th>intake_datetime</th>\n",
       "      <th>age_upon_outcome_(years)</th>\n",
       "      <th>age_upon_outcome_(days)</th>\n",
       "      <th>found_location</th>\n",
       "      <th>animal_type</th>\n",
       "      <th>age_upon_outcome</th>\n",
       "      <th>outcome_type</th>\n",
       "    </tr>\n",
       "  </thead>\n",
       "  <tbody>\n",
       "    <tr>\n",
       "      <th>0</th>\n",
       "      <td>12</td>\n",
       "      <td>0.588194</td>\n",
       "      <td>0 days 14:07:00.000000000</td>\n",
       "      <td>2017-12-07 14:07:00</td>\n",
       "      <td>2</td>\n",
       "      <td>3</td>\n",
       "      <td>1982</td>\n",
       "      <td>0</td>\n",
       "      <td>0</td>\n",
       "      <td>2017-12-07 00:00:00</td>\n",
       "      <td>10.0</td>\n",
       "      <td>3650.0</td>\n",
       "      <td>27355</td>\n",
       "      <td>2</td>\n",
       "      <td>7</td>\n",
       "      <td>6</td>\n",
       "    </tr>\n",
       "    <tr>\n",
       "      <th>1</th>\n",
       "      <td>12</td>\n",
       "      <td>1.259722</td>\n",
       "      <td>1 days 06:14:00.000000000</td>\n",
       "      <td>2014-12-20 16:35:00</td>\n",
       "      <td>2</td>\n",
       "      <td>2</td>\n",
       "      <td>1982</td>\n",
       "      <td>0</td>\n",
       "      <td>0</td>\n",
       "      <td>2014-12-19 10:21:00</td>\n",
       "      <td>7.0</td>\n",
       "      <td>2555.0</td>\n",
       "      <td>23503</td>\n",
       "      <td>2</td>\n",
       "      <td>41</td>\n",
       "      <td>6</td>\n",
       "    </tr>\n",
       "    <tr>\n",
       "      <th>2</th>\n",
       "      <td>12</td>\n",
       "      <td>1.113889</td>\n",
       "      <td>1 days 02:44:00.000000000</td>\n",
       "      <td>2014-03-08 17:10:00</td>\n",
       "      <td>2</td>\n",
       "      <td>2</td>\n",
       "      <td>1982</td>\n",
       "      <td>0</td>\n",
       "      <td>0</td>\n",
       "      <td>2014-03-07 14:26:00</td>\n",
       "      <td>6.0</td>\n",
       "      <td>2190.0</td>\n",
       "      <td>23504</td>\n",
       "      <td>2</td>\n",
       "      <td>39</td>\n",
       "      <td>6</td>\n",
       "    </tr>\n",
       "    <tr>\n",
       "      <th>3</th>\n",
       "      <td>12</td>\n",
       "      <td>4.970139</td>\n",
       "      <td>4 days 23:17:00.000000000</td>\n",
       "      <td>2014-04-07 15:12:00</td>\n",
       "      <td>2</td>\n",
       "      <td>1</td>\n",
       "      <td>830</td>\n",
       "      <td>1</td>\n",
       "      <td>1</td>\n",
       "      <td>2014-04-02 15:55:00</td>\n",
       "      <td>10.0</td>\n",
       "      <td>3650.0</td>\n",
       "      <td>25825</td>\n",
       "      <td>2</td>\n",
       "      <td>7</td>\n",
       "      <td>8</td>\n",
       "    </tr>\n",
       "    <tr>\n",
       "      <th>4</th>\n",
       "      <td>12</td>\n",
       "      <td>0.119444</td>\n",
       "      <td>0 days 02:52:00.000000000</td>\n",
       "      <td>2013-11-16 11:54:00</td>\n",
       "      <td>2</td>\n",
       "      <td>2</td>\n",
       "      <td>1880</td>\n",
       "      <td>2</td>\n",
       "      <td>2</td>\n",
       "      <td>2013-11-16 09:02:00</td>\n",
       "      <td>16.0</td>\n",
       "      <td>5840.0</td>\n",
       "      <td>3301</td>\n",
       "      <td>2</td>\n",
       "      <td>14</td>\n",
       "      <td>6</td>\n",
       "    </tr>\n",
       "  </tbody>\n",
       "</table>\n",
       "</div>"
      ],
      "text/plain": [
       "   outcome_subtype  time_in_shelter_days            time_in_shelter  \\\n",
       "0               12              0.588194  0 days 14:07:00.000000000   \n",
       "1               12              1.259722  1 days 06:14:00.000000000   \n",
       "2               12              1.113889  1 days 02:44:00.000000000   \n",
       "3               12              4.970139  4 days 23:17:00.000000000   \n",
       "4               12              0.119444  0 days 02:52:00.000000000   \n",
       "\n",
       "      outcome_datetime  sex_upon_outcome  intake_type  breed  \\\n",
       "0  2017-12-07 14:07:00                 2            3   1982   \n",
       "1  2014-12-20 16:35:00                 2            2   1982   \n",
       "2  2014-03-08 17:10:00                 2            2   1982   \n",
       "3  2014-04-07 15:12:00                 2            1    830   \n",
       "4  2013-11-16 11:54:00                 2            2   1880   \n",
       "\n",
       "   animal_id_intake  animal_id_outcome      intake_datetime  \\\n",
       "0                 0                  0  2017-12-07 00:00:00   \n",
       "1                 0                  0  2014-12-19 10:21:00   \n",
       "2                 0                  0  2014-03-07 14:26:00   \n",
       "3                 1                  1  2014-04-02 15:55:00   \n",
       "4                 2                  2  2013-11-16 09:02:00   \n",
       "\n",
       "   age_upon_outcome_(years)  age_upon_outcome_(days)  found_location  \\\n",
       "0                      10.0                   3650.0           27355   \n",
       "1                       7.0                   2555.0           23503   \n",
       "2                       6.0                   2190.0           23504   \n",
       "3                      10.0                   3650.0           25825   \n",
       "4                      16.0                   5840.0            3301   \n",
       "\n",
       "   animal_type  age_upon_outcome  outcome_type  \n",
       "0            2                 7             6  \n",
       "1            2                41             6  \n",
       "2            2                39             6  \n",
       "3            2                 7             8  \n",
       "4            2                14             6  "
      ]
     },
     "execution_count": 22,
     "metadata": {},
     "output_type": "execute_result"
    }
   ],
   "source": [
    "# Updated list of categorical columns based on selected features\n",
    "categorical_columns = [\n",
    "    'outcome_subtype', 'sex_upon_outcome', 'intake_type', 'breed', \n",
    "    'animal_id_intake', 'animal_id_outcome', 'found_location', \n",
    "    'animal_type', 'age_upon_outcome', 'outcome_type'\n",
    "]\n",
    "\n",
    "# Dictionary to store label encoders for each column\n",
    "label_encoders = {}\n",
    "\n",
    "# Apply Label Encoding to categorical columns\n",
    "for col in categorical_columns:\n",
    "    le = LabelEncoder()\n",
    "    data1[col] = le.fit_transform(data1[col].astype(str))\n",
    "    label_encoders[col] = le\n",
    "\n",
    "# Display the first few rows of the transformed data\n",
    "data1.head()"
   ]
  },
  {
   "cell_type": "markdown",
   "id": "ee5175ed",
   "metadata": {},
   "source": [
    "### Identifying the numerical features to scale"
   ]
  },
  {
   "cell_type": "code",
   "execution_count": 23,
   "id": "85f690d3",
   "metadata": {
    "scrolled": true
   },
   "outputs": [
    {
     "data": {
      "text/html": [
       "<div>\n",
       "<style scoped>\n",
       "    .dataframe tbody tr th:only-of-type {\n",
       "        vertical-align: middle;\n",
       "    }\n",
       "\n",
       "    .dataframe tbody tr th {\n",
       "        vertical-align: top;\n",
       "    }\n",
       "\n",
       "    .dataframe thead th {\n",
       "        text-align: right;\n",
       "    }\n",
       "</style>\n",
       "<table border=\"1\" class=\"dataframe\">\n",
       "  <thead>\n",
       "    <tr style=\"text-align: right;\">\n",
       "      <th></th>\n",
       "      <th>outcome_subtype</th>\n",
       "      <th>time_in_shelter_days</th>\n",
       "      <th>time_in_shelter</th>\n",
       "      <th>outcome_datetime</th>\n",
       "      <th>sex_upon_outcome</th>\n",
       "      <th>intake_type</th>\n",
       "      <th>breed</th>\n",
       "      <th>animal_id_intake</th>\n",
       "      <th>animal_id_outcome</th>\n",
       "      <th>intake_datetime</th>\n",
       "      <th>age_upon_outcome_(years)</th>\n",
       "      <th>age_upon_outcome_(days)</th>\n",
       "      <th>found_location</th>\n",
       "      <th>animal_type</th>\n",
       "      <th>age_upon_outcome</th>\n",
       "      <th>outcome_type</th>\n",
       "    </tr>\n",
       "  </thead>\n",
       "  <tbody>\n",
       "    <tr>\n",
       "      <th>0</th>\n",
       "      <td>12</td>\n",
       "      <td>-0.387938</td>\n",
       "      <td>0 days 14:07:00.000000000</td>\n",
       "      <td>2017-12-07 14:07:00</td>\n",
       "      <td>2</td>\n",
       "      <td>3</td>\n",
       "      <td>1982</td>\n",
       "      <td>0</td>\n",
       "      <td>0</td>\n",
       "      <td>2017-12-07 00:00:00</td>\n",
       "      <td>2.709395</td>\n",
       "      <td>2.709395</td>\n",
       "      <td>27355</td>\n",
       "      <td>2</td>\n",
       "      <td>7</td>\n",
       "      <td>6</td>\n",
       "    </tr>\n",
       "    <tr>\n",
       "      <th>1</th>\n",
       "      <td>12</td>\n",
       "      <td>-0.371827</td>\n",
       "      <td>1 days 06:14:00.000000000</td>\n",
       "      <td>2014-12-20 16:35:00</td>\n",
       "      <td>2</td>\n",
       "      <td>2</td>\n",
       "      <td>1982</td>\n",
       "      <td>0</td>\n",
       "      <td>0</td>\n",
       "      <td>2014-12-19 10:21:00</td>\n",
       "      <td>1.674934</td>\n",
       "      <td>1.674934</td>\n",
       "      <td>23503</td>\n",
       "      <td>2</td>\n",
       "      <td>41</td>\n",
       "      <td>6</td>\n",
       "    </tr>\n",
       "    <tr>\n",
       "      <th>2</th>\n",
       "      <td>12</td>\n",
       "      <td>-0.375325</td>\n",
       "      <td>1 days 02:44:00.000000000</td>\n",
       "      <td>2014-03-08 17:10:00</td>\n",
       "      <td>2</td>\n",
       "      <td>2</td>\n",
       "      <td>1982</td>\n",
       "      <td>0</td>\n",
       "      <td>0</td>\n",
       "      <td>2014-03-07 14:26:00</td>\n",
       "      <td>1.330113</td>\n",
       "      <td>1.330113</td>\n",
       "      <td>23504</td>\n",
       "      <td>2</td>\n",
       "      <td>39</td>\n",
       "      <td>6</td>\n",
       "    </tr>\n",
       "    <tr>\n",
       "      <th>3</th>\n",
       "      <td>12</td>\n",
       "      <td>-0.282803</td>\n",
       "      <td>4 days 23:17:00.000000000</td>\n",
       "      <td>2014-04-07 15:12:00</td>\n",
       "      <td>2</td>\n",
       "      <td>1</td>\n",
       "      <td>830</td>\n",
       "      <td>1</td>\n",
       "      <td>1</td>\n",
       "      <td>2014-04-02 15:55:00</td>\n",
       "      <td>2.709395</td>\n",
       "      <td>2.709395</td>\n",
       "      <td>25825</td>\n",
       "      <td>2</td>\n",
       "      <td>7</td>\n",
       "      <td>8</td>\n",
       "    </tr>\n",
       "    <tr>\n",
       "      <th>4</th>\n",
       "      <td>12</td>\n",
       "      <td>-0.399185</td>\n",
       "      <td>0 days 02:52:00.000000000</td>\n",
       "      <td>2013-11-16 11:54:00</td>\n",
       "      <td>2</td>\n",
       "      <td>2</td>\n",
       "      <td>1880</td>\n",
       "      <td>2</td>\n",
       "      <td>2</td>\n",
       "      <td>2013-11-16 09:02:00</td>\n",
       "      <td>4.778318</td>\n",
       "      <td>4.778318</td>\n",
       "      <td>3301</td>\n",
       "      <td>2</td>\n",
       "      <td>14</td>\n",
       "      <td>6</td>\n",
       "    </tr>\n",
       "  </tbody>\n",
       "</table>\n",
       "</div>"
      ],
      "text/plain": [
       "   outcome_subtype  time_in_shelter_days            time_in_shelter  \\\n",
       "0               12             -0.387938  0 days 14:07:00.000000000   \n",
       "1               12             -0.371827  1 days 06:14:00.000000000   \n",
       "2               12             -0.375325  1 days 02:44:00.000000000   \n",
       "3               12             -0.282803  4 days 23:17:00.000000000   \n",
       "4               12             -0.399185  0 days 02:52:00.000000000   \n",
       "\n",
       "      outcome_datetime  sex_upon_outcome  intake_type  breed  \\\n",
       "0  2017-12-07 14:07:00                 2            3   1982   \n",
       "1  2014-12-20 16:35:00                 2            2   1982   \n",
       "2  2014-03-08 17:10:00                 2            2   1982   \n",
       "3  2014-04-07 15:12:00                 2            1    830   \n",
       "4  2013-11-16 11:54:00                 2            2   1880   \n",
       "\n",
       "   animal_id_intake  animal_id_outcome      intake_datetime  \\\n",
       "0                 0                  0  2017-12-07 00:00:00   \n",
       "1                 0                  0  2014-12-19 10:21:00   \n",
       "2                 0                  0  2014-03-07 14:26:00   \n",
       "3                 1                  1  2014-04-02 15:55:00   \n",
       "4                 2                  2  2013-11-16 09:02:00   \n",
       "\n",
       "   age_upon_outcome_(years)  age_upon_outcome_(days)  found_location  \\\n",
       "0                  2.709395                 2.709395           27355   \n",
       "1                  1.674934                 1.674934           23503   \n",
       "2                  1.330113                 1.330113           23504   \n",
       "3                  2.709395                 2.709395           25825   \n",
       "4                  4.778318                 4.778318            3301   \n",
       "\n",
       "   animal_type  age_upon_outcome  outcome_type  \n",
       "0            2                 7             6  \n",
       "1            2                41             6  \n",
       "2            2                39             6  \n",
       "3            2                 7             8  \n",
       "4            2                14             6  "
      ]
     },
     "execution_count": 23,
     "metadata": {},
     "output_type": "execute_result"
    }
   ],
   "source": [
    "from sklearn.preprocessing import StandardScaler\n",
    "\n",
    "# Updated list of numerical columns based on selected features\n",
    "numerical_columns = ['age_upon_outcome_(days)', 'age_upon_outcome_(years)', 'time_in_shelter_days']\n",
    "\n",
    "# Create a StandardScaler instance\n",
    "scaler = StandardScaler()\n",
    "\n",
    "# Apply the scaler to the numerical columns\n",
    "data1[numerical_columns] = scaler.fit_transform(data1[numerical_columns])\n",
    "\n",
    "# Display the first few rows of the transformed data\n",
    "data1.head()"
   ]
  },
  {
   "cell_type": "markdown",
   "id": "51ceddb5",
   "metadata": {},
   "source": [
    "### Performing the train-test split"
   ]
  },
  {
   "cell_type": "code",
   "execution_count": 24,
   "id": "fed8bb32",
   "metadata": {},
   "outputs": [
    {
     "name": "stdout",
     "output_type": "stream",
     "text": [
      "X_train shape: (63737, 15)\n",
      "X_test shape: (15935, 15)\n",
      "y_train shape: (63737,)\n",
      "y_test shape: (15935,)\n"
     ]
    }
   ],
   "source": [
    "X = data1.drop(columns=[\"outcome_type\"])\n",
    "y = data1[\"outcome_type\"]\n",
    "\n",
    "X_train, X_test, y_train, y_test = train_test_split(X, y, test_size=0.2, random_state=42)\n",
    "\n",
    "print(\"X_train shape:\", X_train.shape)\n",
    "print(\"X_test shape:\", X_test.shape)\n",
    "print(\"y_train shape:\", y_train.shape)\n",
    "print(\"y_test shape:\", y_test.shape)"
   ]
  },
  {
   "cell_type": "code",
   "execution_count": 25,
   "id": "280792f8",
   "metadata": {},
   "outputs": [
    {
     "name": "stdout",
     "output_type": "stream",
     "text": [
      "Object columns in X_test: Index(['time_in_shelter', 'outcome_datetime', 'intake_datetime'], dtype='object')\n"
     ]
    }
   ],
   "source": [
    "# Checking the data types of columns in X_test\n",
    "# print(X_test.dtypes)\n",
    "\n",
    "# Finding the columns that are object types\n",
    "object_columns_test = X_test.select_dtypes(include=['object']).columns\n",
    "print(\"Object columns in X_test:\", object_columns_test)"
   ]
  },
  {
   "cell_type": "markdown",
   "id": "fefdadd0",
   "metadata": {},
   "source": [
    "### Converting all non-numeric columns in combined data to string to handle unseen labels"
   ]
  },
  {
   "cell_type": "code",
   "execution_count": 26,
   "id": "330f9d42",
   "metadata": {
    "scrolled": true
   },
   "outputs": [],
   "source": [
    "# Creating a dictionary to store LabelEncoders for each column\n",
    "label_encoders = {}\n",
    "\n",
    "# Combining the training and test data to fit the encoder on all data\n",
    "combined_data = pd.concat([X_train, X_test], axis=0)\n",
    "\n",
    "for col in object_columns_test:\n",
    "    le = LabelEncoder()\n",
    "    le.fit(combined_data[col].astype(str))  # Fitting on all data to cover all possible labels\n",
    "    X_train[col] = le.transform(X_train[col].astype(str))\n",
    "    X_test[col] = le.transform(X_test[col].astype(str))\n",
    "    label_encoders[col] = le  # Saving the encoder for future use if needed"
   ]
  },
  {
   "cell_type": "code",
   "execution_count": 27,
   "id": "28de801f",
   "metadata": {
    "scrolled": true
   },
   "outputs": [
    {
     "data": {
      "text/plain": [
       "outcome_subtype               int32\n",
       "time_in_shelter_days        float64\n",
       "time_in_shelter               int32\n",
       "outcome_datetime              int32\n",
       "sex_upon_outcome              int32\n",
       "intake_type                   int32\n",
       "breed                         int32\n",
       "animal_id_intake              int32\n",
       "animal_id_outcome             int32\n",
       "intake_datetime               int32\n",
       "age_upon_outcome_(years)    float64\n",
       "age_upon_outcome_(days)     float64\n",
       "found_location                int32\n",
       "animal_type                   int32\n",
       "age_upon_outcome              int32\n",
       "dtype: object"
      ]
     },
     "execution_count": 27,
     "metadata": {},
     "output_type": "execute_result"
    }
   ],
   "source": [
    "X_test.dtypes"
   ]
  },
  {
   "cell_type": "code",
   "execution_count": 28,
   "id": "521bb3d8",
   "metadata": {},
   "outputs": [
    {
     "data": {
      "text/html": [
       "<div>\n",
       "<style scoped>\n",
       "    .dataframe tbody tr th:only-of-type {\n",
       "        vertical-align: middle;\n",
       "    }\n",
       "\n",
       "    .dataframe tbody tr th {\n",
       "        vertical-align: top;\n",
       "    }\n",
       "\n",
       "    .dataframe thead th {\n",
       "        text-align: right;\n",
       "    }\n",
       "</style>\n",
       "<table border=\"1\" class=\"dataframe\">\n",
       "  <thead>\n",
       "    <tr style=\"text-align: right;\">\n",
       "      <th></th>\n",
       "      <th>outcome_subtype</th>\n",
       "      <th>time_in_shelter_days</th>\n",
       "      <th>time_in_shelter</th>\n",
       "      <th>outcome_datetime</th>\n",
       "      <th>sex_upon_outcome</th>\n",
       "      <th>intake_type</th>\n",
       "      <th>breed</th>\n",
       "      <th>animal_id_intake</th>\n",
       "      <th>animal_id_outcome</th>\n",
       "      <th>intake_datetime</th>\n",
       "      <th>age_upon_outcome_(years)</th>\n",
       "      <th>age_upon_outcome_(days)</th>\n",
       "      <th>found_location</th>\n",
       "      <th>animal_type</th>\n",
       "      <th>age_upon_outcome</th>\n",
       "    </tr>\n",
       "  </thead>\n",
       "  <tbody>\n",
       "    <tr>\n",
       "      <th>8777</th>\n",
       "      <td>12</td>\n",
       "      <td>-0.367911</td>\n",
       "      <td>1985</td>\n",
       "      <td>3652</td>\n",
       "      <td>3</td>\n",
       "      <td>1</td>\n",
       "      <td>670</td>\n",
       "      <td>7561</td>\n",
       "      <td>7561</td>\n",
       "      <td>3436</td>\n",
       "      <td>-0.049169</td>\n",
       "      <td>-0.049169</td>\n",
       "      <td>35323</td>\n",
       "      <td>2</td>\n",
       "      <td>21</td>\n",
       "    </tr>\n",
       "    <tr>\n",
       "      <th>54058</th>\n",
       "      <td>12</td>\n",
       "      <td>0.030304</td>\n",
       "      <td>8457</td>\n",
       "      <td>42670</td>\n",
       "      <td>2</td>\n",
       "      <td>3</td>\n",
       "      <td>952</td>\n",
       "      <td>48370</td>\n",
       "      <td>48370</td>\n",
       "      <td>36554</td>\n",
       "      <td>-0.625444</td>\n",
       "      <td>-0.625444</td>\n",
       "      <td>24611</td>\n",
       "      <td>1</td>\n",
       "      <td>30</td>\n",
       "    </tr>\n",
       "    <tr>\n",
       "      <th>6648</th>\n",
       "      <td>12</td>\n",
       "      <td>0.586321</td>\n",
       "      <td>18749</td>\n",
       "      <td>3155</td>\n",
       "      <td>0</td>\n",
       "      <td>3</td>\n",
       "      <td>952</td>\n",
       "      <td>5668</td>\n",
       "      <td>5668</td>\n",
       "      <td>1801</td>\n",
       "      <td>-0.682127</td>\n",
       "      <td>-0.682127</td>\n",
       "      <td>21289</td>\n",
       "      <td>1</td>\n",
       "      <td>19</td>\n",
       "    </tr>\n",
       "    <tr>\n",
       "      <th>22512</th>\n",
       "      <td>6</td>\n",
       "      <td>0.372768</td>\n",
       "      <td>15574</td>\n",
       "      <td>16146</td>\n",
       "      <td>3</td>\n",
       "      <td>1</td>\n",
       "      <td>1399</td>\n",
       "      <td>20001</td>\n",
       "      <td>20001</td>\n",
       "      <td>13075</td>\n",
       "      <td>0.640472</td>\n",
       "      <td>0.640472</td>\n",
       "      <td>25825</td>\n",
       "      <td>1</td>\n",
       "      <td>32</td>\n",
       "    </tr>\n",
       "    <tr>\n",
       "      <th>32255</th>\n",
       "      <td>12</td>\n",
       "      <td>-0.353998</td>\n",
       "      <td>9358</td>\n",
       "      <td>23380</td>\n",
       "      <td>3</td>\n",
       "      <td>3</td>\n",
       "      <td>1267</td>\n",
       "      <td>28611</td>\n",
       "      <td>28611</td>\n",
       "      <td>20505</td>\n",
       "      <td>0.640472</td>\n",
       "      <td>0.640472</td>\n",
       "      <td>29824</td>\n",
       "      <td>2</td>\n",
       "      <td>32</td>\n",
       "    </tr>\n",
       "  </tbody>\n",
       "</table>\n",
       "</div>"
      ],
      "text/plain": [
       "       outcome_subtype  time_in_shelter_days  time_in_shelter  \\\n",
       "8777                12             -0.367911             1985   \n",
       "54058               12              0.030304             8457   \n",
       "6648                12              0.586321            18749   \n",
       "22512                6              0.372768            15574   \n",
       "32255               12             -0.353998             9358   \n",
       "\n",
       "       outcome_datetime  sex_upon_outcome  intake_type  breed  \\\n",
       "8777               3652                 3            1    670   \n",
       "54058             42670                 2            3    952   \n",
       "6648               3155                 0            3    952   \n",
       "22512             16146                 3            1   1399   \n",
       "32255             23380                 3            3   1267   \n",
       "\n",
       "       animal_id_intake  animal_id_outcome  intake_datetime  \\\n",
       "8777               7561               7561             3436   \n",
       "54058             48370              48370            36554   \n",
       "6648               5668               5668             1801   \n",
       "22512             20001              20001            13075   \n",
       "32255             28611              28611            20505   \n",
       "\n",
       "       age_upon_outcome_(years)  age_upon_outcome_(days)  found_location  \\\n",
       "8777                  -0.049169                -0.049169           35323   \n",
       "54058                 -0.625444                -0.625444           24611   \n",
       "6648                  -0.682127                -0.682127           21289   \n",
       "22512                  0.640472                 0.640472           25825   \n",
       "32255                  0.640472                 0.640472           29824   \n",
       "\n",
       "       animal_type  age_upon_outcome  \n",
       "8777             2                21  \n",
       "54058            1                30  \n",
       "6648             1                19  \n",
       "22512            1                32  \n",
       "32255            2                32  "
      ]
     },
     "execution_count": 28,
     "metadata": {},
     "output_type": "execute_result"
    }
   ],
   "source": [
    "X_test.head()"
   ]
  },
  {
   "cell_type": "code",
   "execution_count": 29,
   "id": "45047ece",
   "metadata": {},
   "outputs": [],
   "source": [
    "# Converting the columns to numeric if they are not already\n",
    "X_train = X_train.apply(pd.to_numeric, errors='coerce')\n",
    "y_train = pd.to_numeric(y_train, errors='coerce')\n",
    "\n",
    "# Checking for missing values and handling them\n",
    "X_train.fillna(0, inplace=True)  # Replacing NaNs with 0\n",
    "y_train.fillna(0, inplace=True)\n",
    "\n",
    "# Checking the data types to ensure they are all numeric\n",
    "# print(X_train.dtypes)\n",
    "# print(y_train.dtypes)"
   ]
  },
  {
   "cell_type": "markdown",
   "id": "a6d232e1",
   "metadata": {},
   "source": [
    "### Maximum Likelihood Estimation"
   ]
  },
  {
   "cell_type": "code",
   "execution_count": 30,
   "id": "90448d23",
   "metadata": {},
   "outputs": [
    {
     "data": {
      "text/html": [
       "<table class=\"simpletable\">\n",
       "<caption>OLS Regression Results</caption>\n",
       "<tr>\n",
       "  <th>Dep. Variable:</th>      <td>outcome_type</td>   <th>  R-squared:         </th>  <td>   0.246</td>  \n",
       "</tr>\n",
       "<tr>\n",
       "  <th>Model:</th>                   <td>OLS</td>       <th>  Adj. R-squared:    </th>  <td>   0.246</td>  \n",
       "</tr>\n",
       "<tr>\n",
       "  <th>Method:</th>             <td>Least Squares</td>  <th>  F-statistic:       </th>  <td>   1598.</td>  \n",
       "</tr>\n",
       "<tr>\n",
       "  <th>Date:</th>             <td>Tue, 17 Dec 2024</td> <th>  Prob (F-statistic):</th>   <td>  0.00</td>   \n",
       "</tr>\n",
       "<tr>\n",
       "  <th>Time:</th>                 <td>00:23:34</td>     <th>  Log-Likelihood:    </th> <td>-1.6169e+05</td>\n",
       "</tr>\n",
       "<tr>\n",
       "  <th>No. Observations:</th>      <td> 63737</td>      <th>  AIC:               </th>  <td>3.234e+05</td> \n",
       "</tr>\n",
       "<tr>\n",
       "  <th>Df Residuals:</th>          <td> 63723</td>      <th>  BIC:               </th>  <td>3.235e+05</td> \n",
       "</tr>\n",
       "<tr>\n",
       "  <th>Df Model:</th>              <td>    13</td>      <th>                     </th>      <td> </td>     \n",
       "</tr>\n",
       "<tr>\n",
       "  <th>Covariance Type:</th>      <td>nonrobust</td>    <th>                     </th>      <td> </td>     \n",
       "</tr>\n",
       "</table>\n",
       "<table class=\"simpletable\">\n",
       "<tr>\n",
       "              <td></td>                <th>coef</th>     <th>std err</th>      <th>t</th>      <th>P>|t|</th>  <th>[0.025</th>    <th>0.975]</th>  \n",
       "</tr>\n",
       "<tr>\n",
       "  <th>const</th>                    <td>    4.0441</td> <td>    0.104</td> <td>   38.845</td> <td> 0.000</td> <td>    3.840</td> <td>    4.248</td>\n",
       "</tr>\n",
       "<tr>\n",
       "  <th>outcome_subtype</th>          <td>    0.2635</td> <td>    0.006</td> <td>   46.219</td> <td> 0.000</td> <td>    0.252</td> <td>    0.275</td>\n",
       "</tr>\n",
       "<tr>\n",
       "  <th>time_in_shelter_days</th>     <td>    0.6454</td> <td>    0.125</td> <td>    5.156</td> <td> 0.000</td> <td>    0.400</td> <td>    0.891</td>\n",
       "</tr>\n",
       "<tr>\n",
       "  <th>time_in_shelter</th>          <td>-8.718e-05</td> <td> 1.34e-06</td> <td>  -65.063</td> <td> 0.000</td> <td>-8.98e-05</td> <td>-8.46e-05</td>\n",
       "</tr>\n",
       "<tr>\n",
       "  <th>outcome_datetime</th>         <td>   -0.0006</td> <td> 7.36e-05</td> <td>   -8.439</td> <td> 0.000</td> <td>   -0.001</td> <td>   -0.000</td>\n",
       "</tr>\n",
       "<tr>\n",
       "  <th>sex_upon_outcome</th>         <td>   -0.8288</td> <td>    0.011</td> <td>  -73.633</td> <td> 0.000</td> <td>   -0.851</td> <td>   -0.807</td>\n",
       "</tr>\n",
       "<tr>\n",
       "  <th>intake_type</th>              <td>    0.1992</td> <td>    0.015</td> <td>   12.942</td> <td> 0.000</td> <td>    0.169</td> <td>    0.229</td>\n",
       "</tr>\n",
       "<tr>\n",
       "  <th>breed</th>                    <td>    0.0002</td> <td> 2.53e-05</td> <td>    7.661</td> <td> 0.000</td> <td>    0.000</td> <td>    0.000</td>\n",
       "</tr>\n",
       "<tr>\n",
       "  <th>animal_id_intake</th>         <td>-9.039e-06</td> <td> 7.17e-07</td> <td>  -12.600</td> <td> 0.000</td> <td>-1.04e-05</td> <td>-7.63e-06</td>\n",
       "</tr>\n",
       "<tr>\n",
       "  <th>animal_id_outcome</th>        <td>-9.039e-06</td> <td> 7.17e-07</td> <td>  -12.600</td> <td> 0.000</td> <td>-1.04e-05</td> <td>-7.63e-06</td>\n",
       "</tr>\n",
       "<tr>\n",
       "  <th>intake_datetime</th>          <td>    0.0007</td> <td> 8.53e-05</td> <td>    8.575</td> <td> 0.000</td> <td>    0.001</td> <td>    0.001</td>\n",
       "</tr>\n",
       "<tr>\n",
       "  <th>age_upon_outcome_(years)</th> <td>    0.1353</td> <td>    0.007</td> <td>   20.181</td> <td> 0.000</td> <td>    0.122</td> <td>    0.148</td>\n",
       "</tr>\n",
       "<tr>\n",
       "  <th>age_upon_outcome_(days)</th>  <td>    0.1353</td> <td>    0.007</td> <td>   20.181</td> <td> 0.000</td> <td>    0.122</td> <td>    0.148</td>\n",
       "</tr>\n",
       "<tr>\n",
       "  <th>found_location</th>           <td>-7.827e-06</td> <td> 1.27e-06</td> <td>   -6.160</td> <td> 0.000</td> <td>-1.03e-05</td> <td>-5.34e-06</td>\n",
       "</tr>\n",
       "<tr>\n",
       "  <th>animal_type</th>              <td>   -0.4188</td> <td>    0.022</td> <td>  -19.019</td> <td> 0.000</td> <td>   -0.462</td> <td>   -0.376</td>\n",
       "</tr>\n",
       "<tr>\n",
       "  <th>age_upon_outcome</th>         <td>    0.0017</td> <td>    0.001</td> <td>    1.708</td> <td> 0.088</td> <td>   -0.000</td> <td>    0.004</td>\n",
       "</tr>\n",
       "</table>\n",
       "<table class=\"simpletable\">\n",
       "<tr>\n",
       "  <th>Omnibus:</th>       <td>15156.682</td> <th>  Durbin-Watson:     </th> <td>   1.995</td>\n",
       "</tr>\n",
       "<tr>\n",
       "  <th>Prob(Omnibus):</th>  <td> 0.000</td>   <th>  Jarque-Bera (JB):  </th> <td>3144.275</td>\n",
       "</tr>\n",
       "<tr>\n",
       "  <th>Skew:</th>           <td> 0.214</td>   <th>  Prob(JB):          </th> <td>    0.00</td>\n",
       "</tr>\n",
       "<tr>\n",
       "  <th>Kurtosis:</th>       <td> 2.000</td>   <th>  Cond. No.          </th> <td>2.59e+19</td>\n",
       "</tr>\n",
       "</table><br/><br/>Notes:<br/>[1] Standard Errors assume that the covariance matrix of the errors is correctly specified.<br/>[2] The smallest eigenvalue is 5.91e-25. This might indicate that there are<br/>strong multicollinearity problems or that the design matrix is singular."
      ],
      "text/plain": [
       "<class 'statsmodels.iolib.summary.Summary'>\n",
       "\"\"\"\n",
       "                            OLS Regression Results                            \n",
       "==============================================================================\n",
       "Dep. Variable:           outcome_type   R-squared:                       0.246\n",
       "Model:                            OLS   Adj. R-squared:                  0.246\n",
       "Method:                 Least Squares   F-statistic:                     1598.\n",
       "Date:                Tue, 17 Dec 2024   Prob (F-statistic):               0.00\n",
       "Time:                        00:23:34   Log-Likelihood:            -1.6169e+05\n",
       "No. Observations:               63737   AIC:                         3.234e+05\n",
       "Df Residuals:                   63723   BIC:                         3.235e+05\n",
       "Df Model:                          13                                         \n",
       "Covariance Type:            nonrobust                                         \n",
       "============================================================================================\n",
       "                               coef    std err          t      P>|t|      [0.025      0.975]\n",
       "--------------------------------------------------------------------------------------------\n",
       "const                        4.0441      0.104     38.845      0.000       3.840       4.248\n",
       "outcome_subtype              0.2635      0.006     46.219      0.000       0.252       0.275\n",
       "time_in_shelter_days         0.6454      0.125      5.156      0.000       0.400       0.891\n",
       "time_in_shelter          -8.718e-05   1.34e-06    -65.063      0.000   -8.98e-05   -8.46e-05\n",
       "outcome_datetime            -0.0006   7.36e-05     -8.439      0.000      -0.001      -0.000\n",
       "sex_upon_outcome            -0.8288      0.011    -73.633      0.000      -0.851      -0.807\n",
       "intake_type                  0.1992      0.015     12.942      0.000       0.169       0.229\n",
       "breed                        0.0002   2.53e-05      7.661      0.000       0.000       0.000\n",
       "animal_id_intake         -9.039e-06   7.17e-07    -12.600      0.000   -1.04e-05   -7.63e-06\n",
       "animal_id_outcome        -9.039e-06   7.17e-07    -12.600      0.000   -1.04e-05   -7.63e-06\n",
       "intake_datetime              0.0007   8.53e-05      8.575      0.000       0.001       0.001\n",
       "age_upon_outcome_(years)     0.1353      0.007     20.181      0.000       0.122       0.148\n",
       "age_upon_outcome_(days)      0.1353      0.007     20.181      0.000       0.122       0.148\n",
       "found_location           -7.827e-06   1.27e-06     -6.160      0.000   -1.03e-05   -5.34e-06\n",
       "animal_type                 -0.4188      0.022    -19.019      0.000      -0.462      -0.376\n",
       "age_upon_outcome             0.0017      0.001      1.708      0.088      -0.000       0.004\n",
       "==============================================================================\n",
       "Omnibus:                    15156.682   Durbin-Watson:                   1.995\n",
       "Prob(Omnibus):                  0.000   Jarque-Bera (JB):             3144.275\n",
       "Skew:                           0.214   Prob(JB):                         0.00\n",
       "Kurtosis:                       2.000   Cond. No.                     2.59e+19\n",
       "==============================================================================\n",
       "\n",
       "Notes:\n",
       "[1] Standard Errors assume that the covariance matrix of the errors is correctly specified.\n",
       "[2] The smallest eigenvalue is 5.91e-25. This might indicate that there are\n",
       "strong multicollinearity problems or that the design matrix is singular.\n",
       "\"\"\""
      ]
     },
     "execution_count": 30,
     "metadata": {},
     "output_type": "execute_result"
    }
   ],
   "source": [
    "# Fitting a simple OLS regression model (MLE)\n",
    "X_train_mle = sm.add_constant(X_train)\n",
    "mle_model = sm.OLS(y_train, X_train_mle).fit()\n",
    "mle_model.summary()"
   ]
  },
  {
   "cell_type": "markdown",
   "id": "6dada7b7",
   "metadata": {},
   "source": [
    "### Ordinary Least Squares"
   ]
  },
  {
   "cell_type": "code",
   "execution_count": 31,
   "id": "71a180f5",
   "metadata": {},
   "outputs": [
    {
     "name": "stdout",
     "output_type": "stream",
     "text": [
      "OLS Model Coefficients: [ 2.63511721e-01  6.45379126e-01 -8.71762864e-05 -6.20955670e-04\n",
      " -8.28795370e-01  1.99205376e-01  1.94172215e-04 -9.03894436e-06\n",
      " -9.03894456e-06  7.31041860e-04  1.35332489e-01  1.35332489e-01\n",
      " -7.82697672e-06 -4.18830067e-01  1.70095215e-03]\n"
     ]
    }
   ],
   "source": [
    "# Fitting an OLS Regression using sklearn\n",
    "ols_model = LinearRegression()\n",
    "ols_model.fit(X_train, y_train)\n",
    "print(\"OLS Model Coefficients:\", ols_model.coef_)"
   ]
  },
  {
   "cell_type": "markdown",
   "id": "d4f992d4",
   "metadata": {},
   "source": [
    "### Logistic Regression"
   ]
  },
  {
   "cell_type": "code",
   "execution_count": 32,
   "id": "9922a4a2",
   "metadata": {
    "scrolled": false
   },
   "outputs": [
    {
     "name": "stdout",
     "output_type": "stream",
     "text": [
      "Logistic Regression Accuracy: 0.537307812990273\n"
     ]
    }
   ],
   "source": [
    "# Fitting the Logistic Regression model\n",
    "logreg_model = LogisticRegression(max_iter=1000)\n",
    "logreg_model.fit(X_train, y_train)\n",
    "# print(\"Logistic Regression Coefficients:\", logreg_model.coef_)\n",
    "\n",
    "# Printing the accuracy\n",
    "accuracy = logreg_model.score(X_test, y_test)\n",
    "print(\"Logistic Regression Accuracy:\", accuracy)"
   ]
  },
  {
   "cell_type": "code",
   "execution_count": 33,
   "id": "23cbaeb1",
   "metadata": {
    "scrolled": true
   },
   "outputs": [
    {
     "data": {
      "text/html": [
       "<div>\n",
       "<style scoped>\n",
       "    .dataframe tbody tr th:only-of-type {\n",
       "        vertical-align: middle;\n",
       "    }\n",
       "\n",
       "    .dataframe tbody tr th {\n",
       "        vertical-align: top;\n",
       "    }\n",
       "\n",
       "    .dataframe thead th {\n",
       "        text-align: right;\n",
       "    }\n",
       "</style>\n",
       "<table border=\"1\" class=\"dataframe\">\n",
       "  <thead>\n",
       "    <tr style=\"text-align: right;\">\n",
       "      <th></th>\n",
       "      <th>outcome_subtype</th>\n",
       "      <th>time_in_shelter_days</th>\n",
       "      <th>time_in_shelter</th>\n",
       "      <th>outcome_datetime</th>\n",
       "      <th>sex_upon_outcome</th>\n",
       "      <th>intake_type</th>\n",
       "      <th>breed</th>\n",
       "      <th>animal_id_intake</th>\n",
       "      <th>animal_id_outcome</th>\n",
       "      <th>intake_datetime</th>\n",
       "      <th>age_upon_outcome_(years)</th>\n",
       "      <th>age_upon_outcome_(days)</th>\n",
       "      <th>found_location</th>\n",
       "      <th>animal_type</th>\n",
       "      <th>age_upon_outcome</th>\n",
       "    </tr>\n",
       "  </thead>\n",
       "  <tbody>\n",
       "    <tr>\n",
       "      <th>1791</th>\n",
       "      <td>12</td>\n",
       "      <td>-0.311145</td>\n",
       "      <td>14559</td>\n",
       "      <td>34891</td>\n",
       "      <td>3</td>\n",
       "      <td>3</td>\n",
       "      <td>669</td>\n",
       "      <td>1510</td>\n",
       "      <td>1510</td>\n",
       "      <td>30115</td>\n",
       "      <td>0.640472</td>\n",
       "      <td>0.640472</td>\n",
       "      <td>13628</td>\n",
       "      <td>2</td>\n",
       "      <td>32</td>\n",
       "    </tr>\n",
       "    <tr>\n",
       "      <th>20091</th>\n",
       "      <td>12</td>\n",
       "      <td>0.724230</td>\n",
       "      <td>19843</td>\n",
       "      <td>14903</td>\n",
       "      <td>2</td>\n",
       "      <td>3</td>\n",
       "      <td>952</td>\n",
       "      <td>17812</td>\n",
       "      <td>17812</td>\n",
       "      <td>11420</td>\n",
       "      <td>-0.682127</td>\n",
       "      <td>-0.682127</td>\n",
       "      <td>16371</td>\n",
       "      <td>1</td>\n",
       "      <td>19</td>\n",
       "    </tr>\n",
       "    <tr>\n",
       "      <th>19501</th>\n",
       "      <td>6</td>\n",
       "      <td>7.851004</td>\n",
       "      <td>16156</td>\n",
       "      <td>26475</td>\n",
       "      <td>3</td>\n",
       "      <td>3</td>\n",
       "      <td>1788</td>\n",
       "      <td>17279</td>\n",
       "      <td>17279</td>\n",
       "      <td>11020</td>\n",
       "      <td>0.640472</td>\n",
       "      <td>0.640472</td>\n",
       "      <td>33489</td>\n",
       "      <td>2</td>\n",
       "      <td>32</td>\n",
       "    </tr>\n",
       "    <tr>\n",
       "      <th>11393</th>\n",
       "      <td>12</td>\n",
       "      <td>-0.303247</td>\n",
       "      <td>17485</td>\n",
       "      <td>6057</td>\n",
       "      <td>3</td>\n",
       "      <td>3</td>\n",
       "      <td>2133</td>\n",
       "      <td>9874</td>\n",
       "      <td>9874</td>\n",
       "      <td>5545</td>\n",
       "      <td>-0.455396</td>\n",
       "      <td>-0.455396</td>\n",
       "      <td>29289</td>\n",
       "      <td>2</td>\n",
       "      <td>6</td>\n",
       "    </tr>\n",
       "    <tr>\n",
       "      <th>8639</th>\n",
       "      <td>12</td>\n",
       "      <td>-0.284969</td>\n",
       "      <td>18285</td>\n",
       "      <td>3659</td>\n",
       "      <td>3</td>\n",
       "      <td>3</td>\n",
       "      <td>952</td>\n",
       "      <td>7450</td>\n",
       "      <td>7450</td>\n",
       "      <td>3344</td>\n",
       "      <td>-0.540420</td>\n",
       "      <td>-0.540420</td>\n",
       "      <td>13588</td>\n",
       "      <td>1</td>\n",
       "      <td>40</td>\n",
       "    </tr>\n",
       "  </tbody>\n",
       "</table>\n",
       "</div>"
      ],
      "text/plain": [
       "       outcome_subtype  time_in_shelter_days  time_in_shelter  \\\n",
       "1791                12             -0.311145            14559   \n",
       "20091               12              0.724230            19843   \n",
       "19501                6              7.851004            16156   \n",
       "11393               12             -0.303247            17485   \n",
       "8639                12             -0.284969            18285   \n",
       "\n",
       "       outcome_datetime  sex_upon_outcome  intake_type  breed  \\\n",
       "1791              34891                 3            3    669   \n",
       "20091             14903                 2            3    952   \n",
       "19501             26475                 3            3   1788   \n",
       "11393              6057                 3            3   2133   \n",
       "8639               3659                 3            3    952   \n",
       "\n",
       "       animal_id_intake  animal_id_outcome  intake_datetime  \\\n",
       "1791               1510               1510            30115   \n",
       "20091             17812              17812            11420   \n",
       "19501             17279              17279            11020   \n",
       "11393              9874               9874             5545   \n",
       "8639               7450               7450             3344   \n",
       "\n",
       "       age_upon_outcome_(years)  age_upon_outcome_(days)  found_location  \\\n",
       "1791                   0.640472                 0.640472           13628   \n",
       "20091                 -0.682127                -0.682127           16371   \n",
       "19501                  0.640472                 0.640472           33489   \n",
       "11393                 -0.455396                -0.455396           29289   \n",
       "8639                  -0.540420                -0.540420           13588   \n",
       "\n",
       "       animal_type  age_upon_outcome  \n",
       "1791             2                32  \n",
       "20091            1                19  \n",
       "19501            2                32  \n",
       "11393            2                 6  \n",
       "8639             1                40  "
      ]
     },
     "execution_count": 33,
     "metadata": {},
     "output_type": "execute_result"
    }
   ],
   "source": [
    "X_train.head()"
   ]
  },
  {
   "cell_type": "code",
   "execution_count": 34,
   "id": "c1fc97ed",
   "metadata": {
    "scrolled": true
   },
   "outputs": [
    {
     "data": {
      "text/html": [
       "<div>\n",
       "<style scoped>\n",
       "    .dataframe tbody tr th:only-of-type {\n",
       "        vertical-align: middle;\n",
       "    }\n",
       "\n",
       "    .dataframe tbody tr th {\n",
       "        vertical-align: top;\n",
       "    }\n",
       "\n",
       "    .dataframe thead th {\n",
       "        text-align: right;\n",
       "    }\n",
       "</style>\n",
       "<table border=\"1\" class=\"dataframe\">\n",
       "  <thead>\n",
       "    <tr style=\"text-align: right;\">\n",
       "      <th></th>\n",
       "      <th>outcome_subtype</th>\n",
       "      <th>time_in_shelter_days</th>\n",
       "      <th>time_in_shelter</th>\n",
       "      <th>outcome_datetime</th>\n",
       "      <th>sex_upon_outcome</th>\n",
       "      <th>intake_type</th>\n",
       "      <th>breed</th>\n",
       "      <th>animal_id_intake</th>\n",
       "      <th>animal_id_outcome</th>\n",
       "      <th>intake_datetime</th>\n",
       "      <th>age_upon_outcome_(years)</th>\n",
       "      <th>age_upon_outcome_(days)</th>\n",
       "      <th>found_location</th>\n",
       "      <th>animal_type</th>\n",
       "      <th>age_upon_outcome</th>\n",
       "    </tr>\n",
       "  </thead>\n",
       "  <tbody>\n",
       "    <tr>\n",
       "      <th>8777</th>\n",
       "      <td>12</td>\n",
       "      <td>-0.367911</td>\n",
       "      <td>1985</td>\n",
       "      <td>3652</td>\n",
       "      <td>3</td>\n",
       "      <td>1</td>\n",
       "      <td>670</td>\n",
       "      <td>7561</td>\n",
       "      <td>7561</td>\n",
       "      <td>3436</td>\n",
       "      <td>-0.049169</td>\n",
       "      <td>-0.049169</td>\n",
       "      <td>35323</td>\n",
       "      <td>2</td>\n",
       "      <td>21</td>\n",
       "    </tr>\n",
       "    <tr>\n",
       "      <th>54058</th>\n",
       "      <td>12</td>\n",
       "      <td>0.030304</td>\n",
       "      <td>8457</td>\n",
       "      <td>42670</td>\n",
       "      <td>2</td>\n",
       "      <td>3</td>\n",
       "      <td>952</td>\n",
       "      <td>48370</td>\n",
       "      <td>48370</td>\n",
       "      <td>36554</td>\n",
       "      <td>-0.625444</td>\n",
       "      <td>-0.625444</td>\n",
       "      <td>24611</td>\n",
       "      <td>1</td>\n",
       "      <td>30</td>\n",
       "    </tr>\n",
       "    <tr>\n",
       "      <th>6648</th>\n",
       "      <td>12</td>\n",
       "      <td>0.586321</td>\n",
       "      <td>18749</td>\n",
       "      <td>3155</td>\n",
       "      <td>0</td>\n",
       "      <td>3</td>\n",
       "      <td>952</td>\n",
       "      <td>5668</td>\n",
       "      <td>5668</td>\n",
       "      <td>1801</td>\n",
       "      <td>-0.682127</td>\n",
       "      <td>-0.682127</td>\n",
       "      <td>21289</td>\n",
       "      <td>1</td>\n",
       "      <td>19</td>\n",
       "    </tr>\n",
       "    <tr>\n",
       "      <th>22512</th>\n",
       "      <td>6</td>\n",
       "      <td>0.372768</td>\n",
       "      <td>15574</td>\n",
       "      <td>16146</td>\n",
       "      <td>3</td>\n",
       "      <td>1</td>\n",
       "      <td>1399</td>\n",
       "      <td>20001</td>\n",
       "      <td>20001</td>\n",
       "      <td>13075</td>\n",
       "      <td>0.640472</td>\n",
       "      <td>0.640472</td>\n",
       "      <td>25825</td>\n",
       "      <td>1</td>\n",
       "      <td>32</td>\n",
       "    </tr>\n",
       "    <tr>\n",
       "      <th>32255</th>\n",
       "      <td>12</td>\n",
       "      <td>-0.353998</td>\n",
       "      <td>9358</td>\n",
       "      <td>23380</td>\n",
       "      <td>3</td>\n",
       "      <td>3</td>\n",
       "      <td>1267</td>\n",
       "      <td>28611</td>\n",
       "      <td>28611</td>\n",
       "      <td>20505</td>\n",
       "      <td>0.640472</td>\n",
       "      <td>0.640472</td>\n",
       "      <td>29824</td>\n",
       "      <td>2</td>\n",
       "      <td>32</td>\n",
       "    </tr>\n",
       "  </tbody>\n",
       "</table>\n",
       "</div>"
      ],
      "text/plain": [
       "       outcome_subtype  time_in_shelter_days  time_in_shelter  \\\n",
       "8777                12             -0.367911             1985   \n",
       "54058               12              0.030304             8457   \n",
       "6648                12              0.586321            18749   \n",
       "22512                6              0.372768            15574   \n",
       "32255               12             -0.353998             9358   \n",
       "\n",
       "       outcome_datetime  sex_upon_outcome  intake_type  breed  \\\n",
       "8777               3652                 3            1    670   \n",
       "54058             42670                 2            3    952   \n",
       "6648               3155                 0            3    952   \n",
       "22512             16146                 3            1   1399   \n",
       "32255             23380                 3            3   1267   \n",
       "\n",
       "       animal_id_intake  animal_id_outcome  intake_datetime  \\\n",
       "8777               7561               7561             3436   \n",
       "54058             48370              48370            36554   \n",
       "6648               5668               5668             1801   \n",
       "22512             20001              20001            13075   \n",
       "32255             28611              28611            20505   \n",
       "\n",
       "       age_upon_outcome_(years)  age_upon_outcome_(days)  found_location  \\\n",
       "8777                  -0.049169                -0.049169           35323   \n",
       "54058                 -0.625444                -0.625444           24611   \n",
       "6648                  -0.682127                -0.682127           21289   \n",
       "22512                  0.640472                 0.640472           25825   \n",
       "32255                  0.640472                 0.640472           29824   \n",
       "\n",
       "       animal_type  age_upon_outcome  \n",
       "8777             2                21  \n",
       "54058            1                30  \n",
       "6648             1                19  \n",
       "22512            1                32  \n",
       "32255            2                32  "
      ]
     },
     "execution_count": 34,
     "metadata": {},
     "output_type": "execute_result"
    }
   ],
   "source": [
    "X_test.head()"
   ]
  },
  {
   "cell_type": "code",
   "execution_count": 35,
   "id": "08fef9ff",
   "metadata": {},
   "outputs": [
    {
     "data": {
      "text/plain": [
       "0"
      ]
     },
     "execution_count": 35,
     "metadata": {},
     "output_type": "execute_result"
    }
   ],
   "source": [
    "X_train.isnull().sum().sum()\n",
    "X_test.isnull().sum().sum()"
   ]
  },
  {
   "cell_type": "markdown",
   "id": "f792ba98",
   "metadata": {},
   "source": [
    "### K-Nearest Neighbors"
   ]
  },
  {
   "cell_type": "code",
   "execution_count": 36,
   "id": "1ec83c78",
   "metadata": {},
   "outputs": [
    {
     "name": "stdout",
     "output_type": "stream",
     "text": [
      "KNN Model Accuracy: 0.5593347976153122\n"
     ]
    }
   ],
   "source": [
    "pca = PCA(n_components=0.95)  # Retaining 95% variance\n",
    "X_train_pca = pca.fit_transform(X_train)\n",
    "X_test_pca = pca.transform(X_test)\n",
    "\n",
    "knn_model = KNeighborsClassifier(n_neighbors=5)\n",
    "knn_model.fit(X_train_pca, y_train)\n",
    "print(\"KNN Model Accuracy:\", knn_model.score(X_test_pca, y_test))"
   ]
  },
  {
   "cell_type": "markdown",
   "id": "147940b3",
   "metadata": {},
   "source": [
    "### AdaBoost Model"
   ]
  },
  {
   "cell_type": "code",
   "execution_count": 37,
   "id": "3ccf9ad9",
   "metadata": {},
   "outputs": [
    {
     "name": "stdout",
     "output_type": "stream",
     "text": [
      "AdaBoost Model Accuracy: 0.5292124254785064\n"
     ]
    }
   ],
   "source": [
    "# Fitting the AdaBoost model\n",
    "adaboost_model = AdaBoostClassifier(n_estimators=50, random_state=42)\n",
    "adaboost_model.fit(X_train, y_train)\n",
    "print(\"AdaBoost Model Accuracy:\", adaboost_model.score(X_test, y_test))"
   ]
  },
  {
   "cell_type": "markdown",
   "id": "4deadb71",
   "metadata": {},
   "source": [
    "### Gradient Boosting Model"
   ]
  },
  {
   "cell_type": "code",
   "execution_count": 38,
   "id": "7e17252d",
   "metadata": {},
   "outputs": [
    {
     "name": "stdout",
     "output_type": "stream",
     "text": [
      "Gradient Boosting Model Accuracy: 0.827361154690932\n"
     ]
    }
   ],
   "source": [
    "# Fitting the Gradient Boosting model\n",
    "gb_model = GradientBoostingClassifier(n_estimators=100, random_state=42)\n",
    "gb_model.fit(X_train, y_train)\n",
    "print(\"Gradient Boosting Model Accuracy:\", gb_model.score(X_test, y_test))"
   ]
  },
  {
   "cell_type": "code",
   "execution_count": 39,
   "id": "51f1227c",
   "metadata": {},
   "outputs": [
    {
     "data": {
      "image/png": "[encoded data removed]",
      "text/plain": [
       "<Figure size 432x288 with 2 Axes>"
      ]
     },
     "metadata": {
      "needs_background": "light"
     },
     "output_type": "display_data"
    }
   ],
   "source": [
    "from sklearn.metrics import confusion_matrix, ConfusionMatrixDisplay\n",
    "import matplotlib.pyplot as plt\n",
    "\n",
    "# Making the predictions on the test set\n",
    "y_pred = gb_model.predict(X_test)\n",
    "\n",
    "# Generating the confusion matrix\n",
    "cm = confusion_matrix(y_test, y_pred\n",
    "disp = ConfusionMatrixDisplay(confusion_matrix=cm, display_labels=gb_model.classes_)\n",
    "disp.plot(cmap='Blues', values_format='d')\n",
    "plt.title(\"Confusion Matrix for Gradient Boosting Classifier\")\n",
    "plt.show()"
   ]
  },
  {
   "cell_type": "markdown",
   "id": "9d2950f8",
   "metadata": {},
   "source": [
    "### XGBoost Model"
   ]
  },
  {
   "cell_type": "code",
   "execution_count": 40,
   "id": "dcde83a9",
   "metadata": {},
   "outputs": [
    {
     "name": "stdout",
     "output_type": "stream",
     "text": [
      "XGBoost Model Accuracy: 0.8431126451208033\n"
     ]
    }
   ],
   "source": [
    "# Fitting the XGBoost model\n",
    "xgb_model = XGBClassifier(objective='multi:softmax', num_class=len(y.unique()), random_state=42)\n",
    "xgb_model.fit(X_train, y_train)\n",
    "print(\"XGBoost Model Accuracy:\", xgb_model.score(X_test, y_test))"
   ]
  },
  {
   "cell_type": "code",
   "execution_count": 41,
   "id": "1f1013b5",
   "metadata": {},
   "outputs": [
    {
     "data": {
      "image/png": "[encoded data removed]",
      "text/plain": [
       "<Figure size 432x288 with 2 Axes>"
      ]
     },
     "metadata": {
      "needs_background": "light"
     },
     "output_type": "display_data"
    }
   ],
   "source": [
    "from sklearn.metrics import confusion_matrix, ConfusionMatrixDisplay\n",
    "import matplotlib.pyplot as plt\n",
    "\n",
    "# Make predictions on the test set\n",
    "y_pred_xgb = xgb_model.predict(X_test)\n",
    "\n",
    "# Generate the confusion matrix\n",
    "cm_xgb = confusion_matrix(y_test, y_pred_xgb)\n",
    "\n",
    "# Plot the confusion matrix\n",
    "disp_xgb = ConfusionMatrixDisplay(confusion_matrix=cm_xgb, display_labels=xgb_model.classes_)\n",
    "disp_xgb.plot(cmap='Blues', values_format='d')\n",
    "plt.title(\"Confusion Matrix for XGBoost Classifier\")\n",
    "plt.show()"
   ]
  },
  {
   "cell_type": "code",
   "execution_count": 42,
   "id": "54e28805",
   "metadata": {},
   "outputs": [
    {
     "data": {
      "text/plain": [
       "<AxesSubplot:title={'center':'Feature importance'}, xlabel='F score', ylabel='Features'>"
      ]
     },
     "execution_count": 42,
     "metadata": {},
     "output_type": "execute_result"
    },
    {
     "data": {
      "image/png": "[encoded data removed]",
      "text/plain": [
       "<Figure size 432x288 with 1 Axes>"
      ]
     },
     "metadata": {
      "needs_background": "light"
     },
     "output_type": "display_data"
    }
   ],
   "source": [
    "from xgboost import plot_importance\n",
    "\n",
    "plot_importance(xgb_model)"
   ]
  },
  {
   "cell_type": "markdown",
   "id": "962de8c5",
   "metadata": {},
   "source": [
    "### Generating a classification report for each model"
   ]
  },
  {
   "cell_type": "code",
   "execution_count": 43,
   "id": "0433ac1a",
   "metadata": {},
   "outputs": [
    {
     "name": "stdout",
     "output_type": "stream",
     "text": [
      "\n",
      "Logistic Regression Evaluation:\n",
      "[[5580    0    0    0    0  189    0  872]\n",
      " [  65    0    0    0    0    6    0   82]\n",
      " [  17    0    0    0    0    2    0   48]\n",
      " [ 188    0    0    0    0  169    0  844]\n",
      " [  11    0    0    0    0    0    0    4]\n",
      " [ 868    0    0    0    0  692    0 1425]\n",
      " [  30    0    0    0    0    0    0    4]\n",
      " [2289    0    0    0    0  260    0 2290]]\n",
      "              precision    recall  f1-score   support\n",
      "\n",
      "           0       0.62      0.84      0.71      6641\n",
      "           1       0.00      0.00      0.00       153\n",
      "           2       0.00      0.00      0.00        67\n",
      "           3       0.00      0.00      0.00      1201\n",
      "           4       0.00      0.00      0.00        15\n",
      "           6       0.53      0.23      0.32      2985\n",
      "           7       0.00      0.00      0.00        34\n",
      "           8       0.41      0.47      0.44      4839\n",
      "\n",
      "    accuracy                           0.54     15935\n",
      "   macro avg       0.19      0.19      0.18     15935\n",
      "weighted avg       0.48      0.54      0.49     15935\n",
      "\n",
      "\n",
      "AdaBoost Evaluation:\n",
      "[[5993    0    0    0    0    3    0    0  645]\n",
      " [  66    0    0    1    0   29    0    0   57]\n",
      " [   6    0    0    2    0   51    0    0    8]\n",
      " [ 186    0    0   18    0  563    0    0  434]\n",
      " [  13    0    0    0    0    0    0    0    2]\n",
      " [   0    0    0    0    0    0    0    0    0]\n",
      " [ 900    0    0    0    0    0    0    0 2085]\n",
      " [  30    0    0    0    0    0    0    0    4]\n",
      " [2410    0    0    0    0    7    0    0 2422]]\n",
      "              precision    recall  f1-score   support\n",
      "\n",
      "           0       0.62      0.90      0.74      6641\n",
      "           1       0.00      0.00      0.00       153\n",
      "           2       0.00      0.00      0.00        67\n",
      "           3       0.86      0.01      0.03      1201\n",
      "           4       0.00      0.00      0.00        15\n",
      "           5       0.00      0.00      0.00         0\n",
      "           6       0.00      0.00      0.00      2985\n",
      "           7       0.00      0.00      0.00        34\n",
      "           8       0.43      0.50      0.46      4839\n",
      "\n",
      "    accuracy                           0.53     15935\n",
      "   macro avg       0.21      0.16      0.14     15935\n",
      "weighted avg       0.45      0.53      0.45     15935\n",
      "\n",
      "\n",
      "Gradient Boosting Evaluation:\n",
      "[[6280    0    1    2    2    0  100    4  252]\n",
      " [   1  135    0    8    2    0    0    0    7]\n",
      " [   4   10    9   27    0    2    2    0   13]\n",
      " [   3    0    2 1186    0    1    3    0    6]\n",
      " [   2    8    0    0    2    0    1    0    2]\n",
      " [   0    0    0    0    0    0    0    0    0]\n",
      " [ 418    0    0    0    0    0 2394    2  171]\n",
      " [  32    0    0    0    0    0    1    0    1]\n",
      " [1469    0    3    1    0    0  182    6 3178]]\n",
      "              precision    recall  f1-score   support\n",
      "\n",
      "           0       0.77      0.95      0.85      6641\n",
      "           1       0.88      0.88      0.88       153\n",
      "           2       0.60      0.13      0.22        67\n",
      "           3       0.97      0.99      0.98      1201\n",
      "           4       0.33      0.13      0.19        15\n",
      "           5       0.00      0.00      0.00         0\n",
      "           6       0.89      0.80      0.84      2985\n",
      "           7       0.00      0.00      0.00        34\n",
      "           8       0.88      0.66      0.75      4839\n",
      "\n",
      "    accuracy                           0.83     15935\n",
      "   macro avg       0.59      0.50      0.52     15935\n",
      "weighted avg       0.84      0.83      0.82     15935\n",
      "\n",
      "\n",
      "XGBoost Evaluation:\n",
      "[[6242    1    3    0    0    0  117    0  278]\n",
      " [   0  137    6    3    4    0    0    0    3]\n",
      " [   1    4   40   11    0    0    4    0    7]\n",
      " [   0    5    8 1183    0    0    2    0    3]\n",
      " [   1    7    0    0    4    0    0    0    3]\n",
      " [   0    0    0    0    0    0    0    0    0]\n",
      " [ 366    0    1    0    0    0 2454    0  164]\n",
      " [  30    0    0    0    0    0    1    1    2]\n",
      " [1294    1    2    1    0    1  166    0 3374]]\n",
      "              precision    recall  f1-score   support\n",
      "\n",
      "           0       0.79      0.94      0.86      6641\n",
      "           1       0.88      0.90      0.89       153\n",
      "           2       0.67      0.60      0.63        67\n",
      "           3       0.99      0.99      0.99      1201\n",
      "           4       0.50      0.27      0.35        15\n",
      "           5       0.00      0.00      0.00         0\n",
      "           6       0.89      0.82      0.86      2985\n",
      "           7       1.00      0.03      0.06        34\n",
      "           8       0.88      0.70      0.78      4839\n",
      "\n",
      "    accuracy                           0.84     15935\n",
      "   macro avg       0.73      0.58      0.60     15935\n",
      "weighted avg       0.85      0.84      0.84     15935\n",
      "\n"
     ]
    }
   ],
   "source": [
    "models = {\n",
    "    \"Logistic Regression\": logreg_model,\n",
    "#     \"KNN\": knn_model,\n",
    "    \"AdaBoost\": adaboost_model,\n",
    "    \"Gradient Boosting\": gb_model,\n",
    "    \"XGBoost\": xgb_model\n",
    "}\n",
    "\n",
    "for name, model in models.items():\n",
    "    y_pred = model.predict(X_test)\n",
    "    print(f\"\\n{name} Evaluation:\")\n",
    "    print(confusion_matrix(y_test, y_pred))\n",
    "    print(classification_report(y_test, y_pred))"
   ]
  },
  {
   "cell_type": "code",
   "execution_count": null,
   "id": "0aa05210",
   "metadata": {},
   "outputs": [],
   "source": []
  }
 ],
 "metadata": {
  "kernelspec": {
   "display_name": "Python 3 (ipykernel)",
   "language": "python",
   "name": "python3"
  },
  "language_info": {
   "codemirror_mode": {
    "name": "ipython",
    "version": 3
   },
   "file_extension": ".py",
   "mimetype": "text/x-python",
   "name": "python",
   "nbconvert_exporter": "python",
   "pygments_lexer": "ipython3",
   "version": "3.8.8"
  }
 },
 "nbformat": 4,
 "nbformat_minor": 5
}
